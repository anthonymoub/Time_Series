{
 "cells": [
  {
   "cell_type": "markdown",
   "id": "019d9aa4",
   "metadata": {},
   "source": [
    "# Local Cluster Dask Demo\n",
    "\n",
    "_**Connect to a Local Dask Cluster on this machine and run analytics**_\n",
    "\n",
    "This notebook works well with the `Data Science 3.0 - Python 3` kernel on SageMaker Studio Notebook Instances with the `ml.t3.large` instance (2 vCPU + 8 GiB).\n",
    "\n",
    "---\n",
    "\n",
    "This notebook creates a local Dask cluster and then it reads the NYC taxi dataset from an S3 bucket and illustrates how to perform basic analytics tasks and machine learning tasks. \n",
    "\n",
    "1. Then the cluster is scaled up to demonstrate that the time taken for the analytics task decreases as the cluster scales up. \n",
    "\n",
    "1. A ML task is demonstrated on the same dataset using Dask-ML. \n",
    "\n",
    "**It is important to stick to the exact same version of the dependencies as installed in this notebook. Any changes to anything in this notebook or cloud formation scripts would most likely cause things to break and lead to a dependency hell.**\n",
    "\n",
    "---\n",
    "\n",
    "---\n",
    "\n",
    "## Contents\n",
    "1. [Tasks do be done in this lab](#Tasks-do-be-done-in-this-lab)\n",
    "1. [Prepare the environment](#Prepare-the-environment)\n",
    "1. [Connect to the Dask Cluster](#Connect-to-the-Dask-Cluster)\n",
    "1. [Exploratory Data Analytics](#Exploratory-Data-Analytics)\n",
    "1. [Scale out the cluster to see if the operations become faster](#Scale-out-the-cluster-to-see-if-the-operations-become-faster)\n",
    "1. [Remove anomalies and plot the distribution](#Remove-anomalies-and-plot-the-distribution)\n",
    "1. [Machine Learning with Dask](#Machine-Learning-with-Dask)\n",
    "\n",
    "_**During the course of execution of this notebook you might see errors such as `distributed.nanny - WARNING - Worker process still alive after 3.9999988555908206 seconds, killing` these are OK, especially if the thing that you asked Dask to do did indeed complete, see more here [Why did my worker die?](https://distributed.dask.org/en/stable/killed.html).**_"
   ]
  },
  {
   "cell_type": "markdown",
   "id": "e57e5220",
   "metadata": {},
   "source": [
    "---\n",
    "\n",
    "## Tasks do be done in this lab\n",
    "\n",
    "There are 4 tasks to be done in this lab. Look for `TASK 1`, `TASK 2`, `TASK 3` and `TASK 4` in this notebook for instructions for each of the tasks. You would need to write code for each of the task and save the output requested in a file as per the instructions provided for each task."
   ]
  },
  {
   "cell_type": "markdown",
   "id": "0f7db21d",
   "metadata": {},
   "source": [
    "---\n",
    "\n",
    "## Prepare the environment\n",
    "\n",
    "Install the exact version of Python packages that work with the Dask cluster (based on the container used by the Dask cluster, see cloud formation templates)."
   ]
  },
  {
   "cell_type": "code",
   "execution_count": 2,
   "id": "b691e5c7",
   "metadata": {
    "tags": []
   },
   "outputs": [
    {
     "name": "stdout",
     "output_type": "stream",
     "text": [
      "Collecting dask[complete]==2023.5.0\n",
      "  Obtaining dependency information for dask[complete]==2023.5.0 from https://files.pythonhosted.org/packages/07/93/32d3e317fec6d0fc130284f922ad9bd13d9ae0d52245e6ff6e57647e924c/dask-2023.5.0-py3-none-any.whl.metadata\n",
      "  Using cached dask-2023.5.0-py3-none-any.whl.metadata (3.6 kB)\n",
      "Requirement already satisfied: s3fs==2023.10.0 in /opt/conda/lib/python3.10/site-packages (2023.10.0)\n",
      "Requirement already satisfied: pyarrow==14.0.0 in /opt/conda/lib/python3.10/site-packages (14.0.0)\n",
      "Requirement already satisfied: dask-glm==0.2.0 in /opt/conda/lib/python3.10/site-packages (0.2.0)\n",
      "Requirement already satisfied: cytoolz==0.12.2 in /opt/conda/lib/python3.10/site-packages (0.12.2)\n",
      "Requirement already satisfied: dask-ml==2022.5.27 in /opt/conda/lib/python3.10/site-packages (2022.5.27)\n",
      "Requirement already satisfied: click>=8.0 in /opt/conda/lib/python3.10/site-packages (from dask[complete]==2023.5.0) (8.1.7)\n",
      "Requirement already satisfied: cloudpickle>=1.5.0 in /opt/conda/lib/python3.10/site-packages (from dask[complete]==2023.5.0) (2.2.1)\n",
      "Requirement already satisfied: fsspec>=2021.09.0 in /opt/conda/lib/python3.10/site-packages (from dask[complete]==2023.5.0) (2023.10.0)\n",
      "Requirement already satisfied: packaging>=20.0 in /opt/conda/lib/python3.10/site-packages (from dask[complete]==2023.5.0) (21.3)\n",
      "Requirement already satisfied: partd>=1.2.0 in /opt/conda/lib/python3.10/site-packages (from dask[complete]==2023.5.0) (1.2.0)\n",
      "Requirement already satisfied: pyyaml>=5.3.1 in /opt/conda/lib/python3.10/site-packages/PyYAML-6.0-py3.10-linux-x86_64.egg (from dask[complete]==2023.5.0) (6.0)\n",
      "Requirement already satisfied: toolz>=0.10.0 in /opt/conda/lib/python3.10/site-packages (from dask[complete]==2023.5.0) (0.11.2)\n",
      "Requirement already satisfied: importlib-metadata>=4.13.0 in /opt/conda/lib/python3.10/site-packages (from dask[complete]==2023.5.0) (6.8.0)\n",
      "Requirement already satisfied: lz4>=4.3.2 in /opt/conda/lib/python3.10/site-packages (from dask[complete]==2023.5.0) (4.3.2)\n",
      "Requirement already satisfied: aiobotocore~=2.7.0 in /opt/conda/lib/python3.10/site-packages (from s3fs==2023.10.0) (2.7.0)\n",
      "Requirement already satisfied: aiohttp!=4.0.0a0,!=4.0.0a1 in /opt/conda/lib/python3.10/site-packages (from s3fs==2023.10.0) (3.8.6)\n",
      "Requirement already satisfied: numpy>=1.16.6 in /opt/conda/lib/python3.10/site-packages (from pyarrow==14.0.0) (1.21.6)\n",
      "Requirement already satisfied: multipledispatch>=0.4.9 in /opt/conda/lib/python3.10/site-packages (from dask-glm==0.2.0) (0.6.0)\n",
      "Requirement already satisfied: scipy>=0.18.1 in /opt/conda/lib/python3.10/site-packages (from dask-glm==0.2.0) (1.11.3)\n",
      "Requirement already satisfied: scikit-learn>=0.18 in /opt/conda/lib/python3.10/site-packages (from dask-glm==0.2.0) (1.3.2)\n",
      "Requirement already satisfied: distributed>=2.4.0 in /opt/conda/lib/python3.10/site-packages (from dask-ml==2022.5.27) (2023.11.0)\n",
      "Requirement already satisfied: numba>=0.51.0 in /opt/conda/lib/python3.10/site-packages (from dask-ml==2022.5.27) (0.55.1)\n",
      "Requirement already satisfied: pandas>=0.24.2 in /opt/conda/lib/python3.10/site-packages (from dask-ml==2022.5.27) (1.4.4)\n",
      "Requirement already satisfied: botocore<1.31.65,>=1.31.16 in /opt/conda/lib/python3.10/site-packages (from aiobotocore~=2.7.0->s3fs==2023.10.0) (1.31.63)\n",
      "Requirement already satisfied: wrapt<2.0.0,>=1.10.10 in /opt/conda/lib/python3.10/site-packages (from aiobotocore~=2.7.0->s3fs==2023.10.0) (1.14.1)\n",
      "Requirement already satisfied: aioitertools<1.0.0,>=0.5.1 in /opt/conda/lib/python3.10/site-packages (from aiobotocore~=2.7.0->s3fs==2023.10.0) (0.11.0)\n",
      "Requirement already satisfied: attrs>=17.3.0 in /opt/conda/lib/python3.10/site-packages (from aiohttp!=4.0.0a0,!=4.0.0a1->s3fs==2023.10.0) (23.1.0)\n",
      "Requirement already satisfied: charset-normalizer<4.0,>=2.0 in /opt/conda/lib/python3.10/site-packages (from aiohttp!=4.0.0a0,!=4.0.0a1->s3fs==2023.10.0) (2.0.4)\n",
      "Requirement already satisfied: multidict<7.0,>=4.5 in /opt/conda/lib/python3.10/site-packages (from aiohttp!=4.0.0a0,!=4.0.0a1->s3fs==2023.10.0) (6.0.4)\n",
      "Requirement already satisfied: async-timeout<5.0,>=4.0.0a3 in /opt/conda/lib/python3.10/site-packages (from aiohttp!=4.0.0a0,!=4.0.0a1->s3fs==2023.10.0) (4.0.3)\n",
      "Requirement already satisfied: yarl<2.0,>=1.0 in /opt/conda/lib/python3.10/site-packages (from aiohttp!=4.0.0a0,!=4.0.0a1->s3fs==2023.10.0) (1.9.2)\n",
      "Requirement already satisfied: frozenlist>=1.1.1 in /opt/conda/lib/python3.10/site-packages (from aiohttp!=4.0.0a0,!=4.0.0a1->s3fs==2023.10.0) (1.4.0)\n",
      "Requirement already satisfied: aiosignal>=1.1.2 in /opt/conda/lib/python3.10/site-packages (from aiohttp!=4.0.0a0,!=4.0.0a1->s3fs==2023.10.0) (1.3.1)\n",
      "INFO: pip is looking at multiple versions of distributed to determine which version is compatible with other requirements. This could take a while.\n",
      "Collecting distributed>=2.4.0 (from dask-ml==2022.5.27)\n",
      "  Obtaining dependency information for distributed>=2.4.0 from https://files.pythonhosted.org/packages/5e/6b/4a5dc8bf17a2714f53f648b6f44f1cd2ad7ab41aaaffe1c25489947c24f6/distributed-2023.10.1-py3-none-any.whl.metadata\n",
      "  Using cached distributed-2023.10.1-py3-none-any.whl.metadata (3.4 kB)\n",
      "  Obtaining dependency information for distributed>=2.4.0 from https://files.pythonhosted.org/packages/77/5c/3948e14bf63b5109b943eb3c175177d16f1d23e8797356984a4014252607/distributed-2023.10.0-py3-none-any.whl.metadata\n",
      "  Using cached distributed-2023.10.0-py3-none-any.whl.metadata (3.4 kB)\n",
      "  Obtaining dependency information for distributed>=2.4.0 from https://files.pythonhosted.org/packages/2a/ed/246feee56ac2dd52f0d9859cd5c52d50c77a8be9d4824b4fdd2ac0a845a4/distributed-2023.9.3-py3-none-any.whl.metadata\n",
      "  Using cached distributed-2023.9.3-py3-none-any.whl.metadata (3.3 kB)\n",
      "  Obtaining dependency information for distributed>=2.4.0 from https://files.pythonhosted.org/packages/63/17/ad16f15b7e78d15265086f7da8c52eda1483e97affc796ccd75e654573cb/distributed-2023.9.2-py3-none-any.whl.metadata\n",
      "  Using cached distributed-2023.9.2-py3-none-any.whl.metadata (3.3 kB)\n",
      "  Obtaining dependency information for distributed>=2.4.0 from https://files.pythonhosted.org/packages/8c/d6/82968ebacf649bcd9247f55ae66a7ccb14b77b9c83bdb6c795cc3c83f9db/distributed-2023.9.1-py3-none-any.whl.metadata\n",
      "  Using cached distributed-2023.9.1-py3-none-any.whl.metadata (3.3 kB)\n",
      "  Obtaining dependency information for distributed>=2.4.0 from https://files.pythonhosted.org/packages/27/9a/1c21b0e9f3ca2866ad8e19a2adfef9888ce943c3c6a974d46ae8c1bef9b6/distributed-2023.9.0-py3-none-any.whl.metadata\n",
      "  Using cached distributed-2023.9.0-py3-none-any.whl.metadata (3.3 kB)\n",
      "  Obtaining dependency information for distributed>=2.4.0 from https://files.pythonhosted.org/packages/54/66/ad2b35fc69c351cfa03969cc86bb7da2c276c349900a08fdb98309193581/distributed-2023.8.1-py3-none-any.whl.metadata\n",
      "  Using cached distributed-2023.8.1-py3-none-any.whl.metadata (3.3 kB)\n",
      "INFO: pip is still looking at multiple versions of distributed to determine which version is compatible with other requirements. This could take a while.\n",
      "  Obtaining dependency information for distributed>=2.4.0 from https://files.pythonhosted.org/packages/07/45/c8493ba0689afa79b7f5910172c422972bda12649e329aa815e2cc124a13/distributed-2023.8.0-py3-none-any.whl.metadata\n",
      "  Using cached distributed-2023.8.0-py3-none-any.whl.metadata (3.3 kB)\n",
      "  Obtaining dependency information for distributed>=2.4.0 from https://files.pythonhosted.org/packages/09/c7/cc5f2591ebc7b3180e88fe87ca3f032eee1925c95654163454daa9edf5b9/distributed-2023.7.1-py3-none-any.whl.metadata\n",
      "  Using cached distributed-2023.7.1-py3-none-any.whl.metadata (3.3 kB)\n",
      "  Obtaining dependency information for distributed>=2.4.0 from https://files.pythonhosted.org/packages/23/22/c7b9ab17a1996f8f2de906c3fece4323836f6f8c85e6b48545fe583fc32d/distributed-2023.7.0-py3-none-any.whl.metadata\n",
      "  Using cached distributed-2023.7.0-py3-none-any.whl.metadata (3.3 kB)\n",
      "  Obtaining dependency information for distributed>=2.4.0 from https://files.pythonhosted.org/packages/1f/12/4ef792dc18251fec903e8c2ee62e8c1ef7d65eba289c4c8efabc8ca72898/distributed-2023.6.1-py3-none-any.whl.metadata\n",
      "  Using cached distributed-2023.6.1-py3-none-any.whl.metadata (3.3 kB)\n",
      "  Obtaining dependency information for distributed>=2.4.0 from https://files.pythonhosted.org/packages/fb/f1/3f90dc2fb600c72a957623ac06c1000c5ec3cd5c709689c93d54647d62c7/distributed-2023.6.0-py3-none-any.whl.metadata\n",
      "  Using cached distributed-2023.6.0-py3-none-any.whl.metadata (3.3 kB)\n",
      "INFO: This is taking longer than usual. You might need to provide the dependency resolver with stricter constraints to reduce runtime. See https://pip.pypa.io/warnings/backtracking for guidance. If you want to abort this run, press Ctrl + C.\n",
      "  Obtaining dependency information for distributed>=2.4.0 from https://files.pythonhosted.org/packages/47/e4/19b7e1a3c4bb2b6bbfc8149e360d9d80d999004e6157c3afeec7b7e2b80b/distributed-2023.5.1-py3-none-any.whl.metadata\n",
      "  Using cached distributed-2023.5.1-py3-none-any.whl.metadata (3.3 kB)\n",
      "  Obtaining dependency information for distributed>=2.4.0 from https://files.pythonhosted.org/packages/ab/b6/ef7244c87bb647e805c4b11154c243cf5f2b8f67ec59f4b7053648d58705/distributed-2023.5.0-py3-none-any.whl.metadata\n",
      "  Using cached distributed-2023.5.0-py3-none-any.whl.metadata (3.4 kB)\n",
      "Requirement already satisfied: jinja2>=2.10.3 in /opt/conda/lib/python3.10/site-packages (from distributed>=2.4.0->dask-ml==2022.5.27) (3.1.2)\n",
      "Requirement already satisfied: locket>=1.0.0 in /opt/conda/lib/python3.10/site-packages (from distributed>=2.4.0->dask-ml==2022.5.27) (1.0.0)\n",
      "Requirement already satisfied: msgpack>=1.0.0 in /opt/conda/lib/python3.10/site-packages (from distributed>=2.4.0->dask-ml==2022.5.27) (1.0.3)\n",
      "Requirement already satisfied: psutil>=5.7.0 in /opt/conda/lib/python3.10/site-packages (from distributed>=2.4.0->dask-ml==2022.5.27) (5.9.0)\n",
      "Requirement already satisfied: sortedcontainers>=2.0.5 in /opt/conda/lib/python3.10/site-packages (from distributed>=2.4.0->dask-ml==2022.5.27) (2.4.0)\n",
      "Requirement already satisfied: tblib>=1.6.0 in /opt/conda/lib/python3.10/site-packages (from distributed>=2.4.0->dask-ml==2022.5.27) (1.7.0)\n",
      "Requirement already satisfied: tornado>=6.0.3 in /opt/conda/lib/python3.10/site-packages (from distributed>=2.4.0->dask-ml==2022.5.27) (6.1)\n",
      "Requirement already satisfied: urllib3>=1.24.3 in /opt/conda/lib/python3.10/site-packages (from distributed>=2.4.0->dask-ml==2022.5.27) (2.0.6)\n",
      "Requirement already satisfied: zict>=2.2.0 in /opt/conda/lib/python3.10/site-packages (from distributed>=2.4.0->dask-ml==2022.5.27) (3.0.0)\n",
      "Requirement already satisfied: zipp>=0.5 in /opt/conda/lib/python3.10/site-packages (from importlib-metadata>=4.13.0->dask[complete]==2023.5.0) (3.8.0)\n",
      "Requirement already satisfied: six in /opt/conda/lib/python3.10/site-packages (from multipledispatch>=0.4.9->dask-glm==0.2.0) (1.16.0)\n",
      "Requirement already satisfied: llvmlite<0.39,>=0.38.0rc1 in /opt/conda/lib/python3.10/site-packages (from numba>=0.51.0->dask-ml==2022.5.27) (0.38.0)\n",
      "Requirement already satisfied: setuptools in /opt/conda/lib/python3.10/site-packages (from numba>=0.51.0->dask-ml==2022.5.27) (68.2.2)\n",
      "Requirement already satisfied: pyparsing!=3.0.5,>=2.0.2 in /opt/conda/lib/python3.10/site-packages (from packaging>=20.0->dask[complete]==2023.5.0) (3.0.9)\n",
      "Requirement already satisfied: python-dateutil>=2.8.1 in /opt/conda/lib/python3.10/site-packages (from pandas>=0.24.2->dask-ml==2022.5.27) (2.8.2)\n",
      "Requirement already satisfied: pytz>=2020.1 in /opt/conda/lib/python3.10/site-packages (from pandas>=0.24.2->dask-ml==2022.5.27) (2022.1)\n",
      "Requirement already satisfied: joblib>=1.1.1 in /opt/conda/lib/python3.10/site-packages (from scikit-learn>=0.18->dask-glm==0.2.0) (1.3.2)\n",
      "Requirement already satisfied: threadpoolctl>=2.0.0 in /opt/conda/lib/python3.10/site-packages (from scikit-learn>=0.18->dask-glm==0.2.0) (2.2.0)\n",
      "Requirement already satisfied: bokeh>=2.4.2 in /opt/conda/lib/python3.10/site-packages (from dask[complete]==2023.5.0) (3.3.0)\n",
      "Requirement already satisfied: contourpy>=1 in /opt/conda/lib/python3.10/site-packages (from bokeh>=2.4.2->dask[complete]==2023.5.0) (1.1.1)\n",
      "Requirement already satisfied: pillow>=7.1.0 in /opt/conda/lib/python3.10/site-packages (from bokeh>=2.4.2->dask[complete]==2023.5.0) (10.0.1)\n",
      "Requirement already satisfied: xyzservices>=2021.09.1 in /opt/conda/lib/python3.10/site-packages (from bokeh>=2.4.2->dask[complete]==2023.5.0) (2023.10.0)\n",
      "Requirement already satisfied: jmespath<2.0.0,>=0.7.1 in /opt/conda/lib/python3.10/site-packages (from botocore<1.31.65,>=1.31.16->aiobotocore~=2.7.0->s3fs==2023.10.0) (0.10.0)\n",
      "Requirement already satisfied: MarkupSafe>=2.0 in /opt/conda/lib/python3.10/site-packages (from jinja2>=2.10.3->distributed>=2.4.0->dask-ml==2022.5.27) (2.1.3)\n",
      "Requirement already satisfied: idna>=2.0 in /opt/conda/lib/python3.10/site-packages (from yarl<2.0,>=1.0->aiohttp!=4.0.0a0,!=4.0.0a1->s3fs==2023.10.0) (3.3)\n",
      "Using cached distributed-2023.5.0-py3-none-any.whl (966 kB)\n",
      "Using cached dask-2023.5.0-py3-none-any.whl (1.2 MB)\n",
      "Installing collected packages: dask, distributed\n",
      "  Attempting uninstall: dask\n",
      "    Found existing installation: dask 2023.11.0\n",
      "    Uninstalling dask-2023.11.0:\n",
      "      Successfully uninstalled dask-2023.11.0\n",
      "  Attempting uninstall: distributed\n",
      "    Found existing installation: distributed 2023.11.0\n",
      "    Uninstalling distributed-2023.11.0:\n",
      "      Successfully uninstalled distributed-2023.11.0\n",
      "Successfully installed dask-2023.5.0 distributed-2023.5.0\n",
      "\u001b[33mWARNING: Running pip as the 'root' user can result in broken permissions and conflicting behaviour with the system package manager. It is recommended to use a virtual environment instead: https://pip.pypa.io/warnings/venv\u001b[0m\u001b[33m\n",
      "\u001b[0m\n",
      "\u001b[1m[\u001b[0m\u001b[34;49mnotice\u001b[0m\u001b[1;39;49m]\u001b[0m\u001b[39;49m A new release of pip is available: \u001b[0m\u001b[31;49m23.2.1\u001b[0m\u001b[39;49m -> \u001b[0m\u001b[32;49m23.3.1\u001b[0m\n",
      "\u001b[1m[\u001b[0m\u001b[34;49mnotice\u001b[0m\u001b[1;39;49m]\u001b[0m\u001b[39;49m To update, run: \u001b[0m\u001b[32;49mpip install --upgrade pip\u001b[0m\n"
     ]
    }
   ],
   "source": [
    "!pip install dask[complete]==2023.5.0 s3fs==2023.10.0 pyarrow==14.0.0 dask-glm==0.2.0 cytoolz==0.12.2 dask-ml==2022.5.27"
   ]
  },
  {
   "cell_type": "markdown",
   "id": "e2ed553d",
   "metadata": {},
   "source": [
    "Install `htop` so that we can see the CPU and memory utilization because we would not be able to connect to the web portal of the local cluster (although there are ways of doing this but we would not be doing that in this class, see [ngrok](https://ngrok.com/))"
   ]
  },
  {
   "cell_type": "code",
   "execution_count": 3,
   "id": "05a654eb",
   "metadata": {
    "tags": []
   },
   "outputs": [
    {
     "name": "stdout",
     "output_type": "stream",
     "text": [
      "Hit:1 http://security.debian.org/debian-security bullseye-security InRelease\n",
      "Hit:2 http://deb.debian.org/debian bullseye InRelease\n",
      "Hit:3 http://deb.debian.org/debian bullseye-updates InRelease\n",
      "Reading package lists... Done\n",
      "Reading package lists... Done\n",
      "Building dependency tree... Done\n",
      "Reading state information... Done\n",
      "htop is already the newest version (3.0.5-7).\n",
      "0 upgraded, 0 newly installed, 0 to remove and 33 not upgraded.\n"
     ]
    }
   ],
   "source": [
    "!apt-get update\n",
    "!apt-get install -y htop"
   ]
  },
  {
   "cell_type": "code",
   "execution_count": 4,
   "id": "928c6710-7004-4c64-9812-3a90d9cc227d",
   "metadata": {
    "tags": []
   },
   "outputs": [
    {
     "name": "stdout",
     "output_type": "stream",
     "text": [
      "Requirement already satisfied: dask[complete] in /opt/conda/lib/python3.10/site-packages (2023.5.0)\n",
      "Collecting dask[complete]\n",
      "  Obtaining dependency information for dask[complete] from https://files.pythonhosted.org/packages/9a/83/e11961f175a6aff67a46dcf4f4f4eba709678b5a351bc4d2c913d9eb39b9/dask-2023.11.0-py3-none-any.whl.metadata\n",
      "  Using cached dask-2023.11.0-py3-none-any.whl.metadata (3.7 kB)\n",
      "Requirement already satisfied: click>=8.1 in /opt/conda/lib/python3.10/site-packages (from dask[complete]) (8.1.7)\n",
      "Requirement already satisfied: cloudpickle>=1.5.0 in /opt/conda/lib/python3.10/site-packages (from dask[complete]) (2.2.1)\n",
      "Requirement already satisfied: fsspec>=2021.09.0 in /opt/conda/lib/python3.10/site-packages (from dask[complete]) (2023.10.0)\n",
      "Requirement already satisfied: packaging>=20.0 in /opt/conda/lib/python3.10/site-packages (from dask[complete]) (21.3)\n",
      "Requirement already satisfied: partd>=1.2.0 in /opt/conda/lib/python3.10/site-packages (from dask[complete]) (1.2.0)\n",
      "Requirement already satisfied: pyyaml>=5.3.1 in /opt/conda/lib/python3.10/site-packages/PyYAML-6.0-py3.10-linux-x86_64.egg (from dask[complete]) (6.0)\n",
      "Requirement already satisfied: toolz>=0.10.0 in /opt/conda/lib/python3.10/site-packages (from dask[complete]) (0.11.2)\n",
      "Requirement already satisfied: importlib-metadata>=4.13.0 in /opt/conda/lib/python3.10/site-packages (from dask[complete]) (6.8.0)\n",
      "Requirement already satisfied: pyarrow>=7.0 in /opt/conda/lib/python3.10/site-packages (from dask[complete]) (14.0.0)\n",
      "Requirement already satisfied: pyarrow-hotfix in /opt/conda/lib/python3.10/site-packages (from dask[complete]) (0.5)\n",
      "Requirement already satisfied: lz4>=4.3.2 in /opt/conda/lib/python3.10/site-packages (from dask[complete]) (4.3.2)\n",
      "Requirement already satisfied: zipp>=0.5 in /opt/conda/lib/python3.10/site-packages (from importlib-metadata>=4.13.0->dask[complete]) (3.8.0)\n",
      "Requirement already satisfied: pyparsing!=3.0.5,>=2.0.2 in /opt/conda/lib/python3.10/site-packages (from packaging>=20.0->dask[complete]) (3.0.9)\n",
      "Requirement already satisfied: locket in /opt/conda/lib/python3.10/site-packages (from partd>=1.2.0->dask[complete]) (1.0.0)\n",
      "Requirement already satisfied: numpy>=1.16.6 in /opt/conda/lib/python3.10/site-packages (from pyarrow>=7.0->dask[complete]) (1.21.6)\n",
      "Collecting distributed==2023.11.0 (from dask[complete])\n",
      "  Obtaining dependency information for distributed==2023.11.0 from https://files.pythonhosted.org/packages/77/a6/34c16487b659de5b42942f13949af8a03c3ea0208f0cd6bcf2cd576e2c28/distributed-2023.11.0-py3-none-any.whl.metadata\n",
      "  Using cached distributed-2023.11.0-py3-none-any.whl.metadata (3.4 kB)\n",
      "Requirement already satisfied: bokeh>=2.4.2 in /opt/conda/lib/python3.10/site-packages (from dask[complete]) (3.3.0)\n",
      "Requirement already satisfied: jinja2>=2.10.3 in /opt/conda/lib/python3.10/site-packages (from dask[complete]) (3.1.2)\n",
      "Requirement already satisfied: pandas>=1.3 in /opt/conda/lib/python3.10/site-packages (from dask[complete]) (1.4.4)\n",
      "Requirement already satisfied: msgpack>=1.0.0 in /opt/conda/lib/python3.10/site-packages (from distributed==2023.11.0->dask[complete]) (1.0.3)\n",
      "Requirement already satisfied: psutil>=5.7.2 in /opt/conda/lib/python3.10/site-packages (from distributed==2023.11.0->dask[complete]) (5.9.0)\n",
      "Requirement already satisfied: sortedcontainers>=2.0.5 in /opt/conda/lib/python3.10/site-packages (from distributed==2023.11.0->dask[complete]) (2.4.0)\n",
      "Requirement already satisfied: tblib>=1.6.0 in /opt/conda/lib/python3.10/site-packages (from distributed==2023.11.0->dask[complete]) (1.7.0)\n",
      "Requirement already satisfied: tornado>=6.0.4 in /opt/conda/lib/python3.10/site-packages (from distributed==2023.11.0->dask[complete]) (6.1)\n",
      "Requirement already satisfied: urllib3>=1.24.3 in /opt/conda/lib/python3.10/site-packages (from distributed==2023.11.0->dask[complete]) (2.0.6)\n",
      "Requirement already satisfied: zict>=3.0.0 in /opt/conda/lib/python3.10/site-packages (from distributed==2023.11.0->dask[complete]) (3.0.0)\n",
      "Requirement already satisfied: contourpy>=1 in /opt/conda/lib/python3.10/site-packages (from bokeh>=2.4.2->dask[complete]) (1.1.1)\n",
      "Requirement already satisfied: pillow>=7.1.0 in /opt/conda/lib/python3.10/site-packages (from bokeh>=2.4.2->dask[complete]) (10.0.1)\n",
      "Requirement already satisfied: xyzservices>=2021.09.1 in /opt/conda/lib/python3.10/site-packages (from bokeh>=2.4.2->dask[complete]) (2023.10.0)\n",
      "Requirement already satisfied: MarkupSafe>=2.0 in /opt/conda/lib/python3.10/site-packages (from jinja2>=2.10.3->dask[complete]) (2.1.3)\n",
      "Requirement already satisfied: python-dateutil>=2.8.1 in /opt/conda/lib/python3.10/site-packages (from pandas>=1.3->dask[complete]) (2.8.2)\n",
      "Requirement already satisfied: pytz>=2020.1 in /opt/conda/lib/python3.10/site-packages (from pandas>=1.3->dask[complete]) (2022.1)\n",
      "Requirement already satisfied: six>=1.5 in /opt/conda/lib/python3.10/site-packages (from python-dateutil>=2.8.1->pandas>=1.3->dask[complete]) (1.16.0)\n",
      "Using cached dask-2023.11.0-py3-none-any.whl (1.2 MB)\n",
      "Using cached distributed-2023.11.0-py3-none-any.whl (1.0 MB)\n",
      "Installing collected packages: dask, distributed\n",
      "  Attempting uninstall: dask\n",
      "    Found existing installation: dask 2023.5.0\n",
      "    Uninstalling dask-2023.5.0:\n",
      "      Successfully uninstalled dask-2023.5.0\n",
      "  Attempting uninstall: distributed\n",
      "    Found existing installation: distributed 2023.5.0\n",
      "    Uninstalling distributed-2023.5.0:\n",
      "      Successfully uninstalled distributed-2023.5.0\n",
      "Successfully installed dask-2023.11.0 distributed-2023.11.0\n",
      "\u001b[33mWARNING: Running pip as the 'root' user can result in broken permissions and conflicting behaviour with the system package manager. It is recommended to use a virtual environment instead: https://pip.pypa.io/warnings/venv\u001b[0m\u001b[33m\n",
      "\u001b[0m\n",
      "\u001b[1m[\u001b[0m\u001b[34;49mnotice\u001b[0m\u001b[1;39;49m]\u001b[0m\u001b[39;49m A new release of pip is available: \u001b[0m\u001b[31;49m23.2.1\u001b[0m\u001b[39;49m -> \u001b[0m\u001b[32;49m23.3.1\u001b[0m\n",
      "\u001b[1m[\u001b[0m\u001b[34;49mnotice\u001b[0m\u001b[1;39;49m]\u001b[0m\u001b[39;49m To update, run: \u001b[0m\u001b[32;49mpip install --upgrade pip\u001b[0m\n",
      "Requirement already satisfied: dask[dataframe] in /opt/conda/lib/python3.10/site-packages (2023.11.0)\n",
      "Requirement already satisfied: click>=8.1 in /opt/conda/lib/python3.10/site-packages (from dask[dataframe]) (8.1.7)\n",
      "Requirement already satisfied: cloudpickle>=1.5.0 in /opt/conda/lib/python3.10/site-packages (from dask[dataframe]) (2.2.1)\n",
      "Requirement already satisfied: fsspec>=2021.09.0 in /opt/conda/lib/python3.10/site-packages (from dask[dataframe]) (2023.10.0)\n",
      "Requirement already satisfied: packaging>=20.0 in /opt/conda/lib/python3.10/site-packages (from dask[dataframe]) (21.3)\n",
      "Requirement already satisfied: partd>=1.2.0 in /opt/conda/lib/python3.10/site-packages (from dask[dataframe]) (1.2.0)\n",
      "Requirement already satisfied: pyyaml>=5.3.1 in /opt/conda/lib/python3.10/site-packages/PyYAML-6.0-py3.10-linux-x86_64.egg (from dask[dataframe]) (6.0)\n",
      "Requirement already satisfied: toolz>=0.10.0 in /opt/conda/lib/python3.10/site-packages (from dask[dataframe]) (0.11.2)\n",
      "Requirement already satisfied: importlib-metadata>=4.13.0 in /opt/conda/lib/python3.10/site-packages (from dask[dataframe]) (6.8.0)\n",
      "Requirement already satisfied: pandas>=1.3 in /opt/conda/lib/python3.10/site-packages (from dask[dataframe]) (1.4.4)\n",
      "Requirement already satisfied: zipp>=0.5 in /opt/conda/lib/python3.10/site-packages (from importlib-metadata>=4.13.0->dask[dataframe]) (3.8.0)\n",
      "Requirement already satisfied: pyparsing!=3.0.5,>=2.0.2 in /opt/conda/lib/python3.10/site-packages (from packaging>=20.0->dask[dataframe]) (3.0.9)\n",
      "Requirement already satisfied: python-dateutil>=2.8.1 in /opt/conda/lib/python3.10/site-packages (from pandas>=1.3->dask[dataframe]) (2.8.2)\n",
      "Requirement already satisfied: pytz>=2020.1 in /opt/conda/lib/python3.10/site-packages (from pandas>=1.3->dask[dataframe]) (2022.1)\n",
      "Requirement already satisfied: numpy>=1.21.0 in /opt/conda/lib/python3.10/site-packages (from pandas>=1.3->dask[dataframe]) (1.21.6)\n",
      "Requirement already satisfied: locket in /opt/conda/lib/python3.10/site-packages (from partd>=1.2.0->dask[dataframe]) (1.0.0)\n",
      "Requirement already satisfied: six>=1.5 in /opt/conda/lib/python3.10/site-packages (from python-dateutil>=2.8.1->pandas>=1.3->dask[dataframe]) (1.16.0)\n",
      "\u001b[33mWARNING: Running pip as the 'root' user can result in broken permissions and conflicting behaviour with the system package manager. It is recommended to use a virtual environment instead: https://pip.pypa.io/warnings/venv\u001b[0m\u001b[33m\n",
      "\u001b[0m\n",
      "\u001b[1m[\u001b[0m\u001b[34;49mnotice\u001b[0m\u001b[1;39;49m]\u001b[0m\u001b[39;49m A new release of pip is available: \u001b[0m\u001b[31;49m23.2.1\u001b[0m\u001b[39;49m -> \u001b[0m\u001b[32;49m23.3.1\u001b[0m\n",
      "\u001b[1m[\u001b[0m\u001b[34;49mnotice\u001b[0m\u001b[1;39;49m]\u001b[0m\u001b[39;49m To update, run: \u001b[0m\u001b[32;49mpip install --upgrade pip\u001b[0m\n"
     ]
    }
   ],
   "source": [
    "!python -m pip install \"dask[complete]\"  --upgrade\n",
    "!pip install \"dask[dataframe]\""
   ]
  },
  {
   "cell_type": "code",
   "execution_count": 5,
   "id": "cb748def-b973-4dbd-914a-94d6cb5948a2",
   "metadata": {
    "tags": []
   },
   "outputs": [
    {
     "data": {
      "text/html": [
       "<script>Jupyter.notebook.kernel.restart()</script>"
      ],
      "text/plain": [
       "<IPython.core.display.HTML object>"
      ]
     },
     "execution_count": 5,
     "metadata": {},
     "output_type": "execute_result"
    }
   ],
   "source": [
    "# restart kernel\n",
    "from IPython.core.display import HTML\n",
    "HTML(\"<script>Jupyter.notebook.kernel.restart()</script>\")"
   ]
  },
  {
   "cell_type": "code",
   "execution_count": 6,
   "id": "9e17b96c",
   "metadata": {
    "tags": []
   },
   "outputs": [
    {
     "name": "stderr",
     "output_type": "stream",
     "text": [
      "/opt/conda/lib/python3.10/site-packages/dask/dataframe/_pyarrow_compat.py:17: FutureWarning: Minimal version of pyarrow will soon be increased to 14.0.1. You are using 14.0.0. Please consider upgrading.\n",
      "  warnings.warn(\n"
     ]
    }
   ],
   "source": [
    "import os\n",
    "import dask\n",
    "import s3fs\n",
    "import time\n",
    "import joblib\n",
    "import distributed\n",
    "import numpy as np\n",
    "import pandas as pd\n",
    "import dask.dataframe as dd\n",
    "import matplotlib.pyplot as plt\n",
    "from dask.distributed import Client\n",
    "from dask.distributed import LocalCluster\n",
    "from sklearn.metrics import mean_squared_error\n",
    "from dask.distributed import performance_report\n",
    "from dask_ml.linear_model import LinearRegression\n",
    "from dask_ml.model_selection import train_test_split"
   ]
  },
  {
   "cell_type": "markdown",
   "id": "b2f0f4f1",
   "metadata": {},
   "source": [
    "---\n",
    "\n",
    "## Connect to the Dask Cluster\n",
    "\n",
    "With the right packages installed, now create and connect to the Dask cluster. Any Dask operations we do after that are automatically done at the _local_ cluster.\n",
    "\n",
    "As created, the Dask cluster has one _scheduler task_ and as many _worker tasks_ as there are vCPUs on this instance."
   ]
  },
  {
   "cell_type": "code",
   "execution_count": 7,
   "id": "37c8adc1",
   "metadata": {
    "tags": []
   },
   "outputs": [],
   "source": [
    "# enable this client for fargate distributed cluster testing\n",
    "cluster = LocalCluster()\n",
    "client = Client(cluster)"
   ]
  },
  {
   "cell_type": "code",
   "execution_count": 8,
   "id": "88975ee4",
   "metadata": {
    "tags": []
   },
   "outputs": [
    {
     "data": {
      "application/vnd.jupyter.widget-view+json": {
       "model_id": "1e9afaea388c4aa289261fb72980dccc",
       "version_major": 2,
       "version_minor": 0
      },
      "text/plain": [
       "Tab(children=(HTML(value='<div class=\"jp-RenderedHTMLCommon jp-RenderedHTML jp-mod-trusted jp-OutputArea-outpu…"
      ]
     },
     "metadata": {},
     "output_type": "display_data"
    }
   ],
   "source": [
    "client.cluster"
   ]
  },
  {
   "cell_type": "markdown",
   "id": "2ec4a88f",
   "metadata": {},
   "source": [
    "Link to this cluster, we will not be able to access this, but if you run this notebook on your laptop you will be able to access it."
   ]
  },
  {
   "cell_type": "code",
   "execution_count": 9,
   "id": "f2ac072c",
   "metadata": {
    "tags": []
   },
   "outputs": [
    {
     "data": {
      "text/plain": [
       "'http://127.0.0.1:8787/status'"
      ]
     },
     "execution_count": 9,
     "metadata": {},
     "output_type": "execute_result"
    }
   ],
   "source": [
    "cluster.dashboard_link"
   ]
  },
  {
   "cell_type": "markdown",
   "id": "f18816bb",
   "metadata": {},
   "source": [
    "Use the `get_logs` function to access the logs of this cluster. Each task also has its web page."
   ]
  },
  {
   "cell_type": "code",
   "execution_count": 10,
   "id": "40fcad8f",
   "metadata": {
    "tags": []
   },
   "outputs": [
    {
     "data": {
      "text/html": [
       "\n",
       "    <details>\n",
       "    <summary style='display:list-item'>Cluster</summary>\n",
       "    \n",
       "    \n",
       "        <p style=\"font-family: monospace; margin: 0;\"></p>\n",
       "    \n",
       "\n",
       "    </details>\n",
       "\n",
       "    <details>\n",
       "    <summary style='display:list-item'>Scheduler</summary>\n",
       "    \n",
       "    \n",
       "        <p style=\"font-family: monospace; margin: 0;\">2023-11-14 19:18:17,980 - distributed.scheduler - INFO - Receive client connection: Client-90fe172d-8322-11ee-8284-e3296a9ed675</p>\n",
       "    \n",
       "\n",
       "    \n",
       "        <p style=\"font-family: monospace; margin: 0;\">2023-11-14 19:18:17,923 - distributed.scheduler - INFO - Starting worker compute stream, tcp://127.0.0.1:44925</p>\n",
       "    \n",
       "\n",
       "    \n",
       "        <p style=\"font-family: monospace; margin: 0;\">2023-11-14 19:18:17,923 - distributed.scheduler - INFO - Register worker &lt;WorkerState &#x27;tcp://127.0.0.1:44925&#x27;, name: 1, status: running, memory: 0, processing: 0&gt;</p>\n",
       "    \n",
       "\n",
       "    \n",
       "        <p style=\"font-family: monospace; margin: 0;\">2023-11-14 19:18:17,894 - distributed.scheduler - INFO - Starting worker compute stream, tcp://127.0.0.1:43797</p>\n",
       "    \n",
       "\n",
       "    \n",
       "        <p style=\"font-family: monospace; margin: 0;\">2023-11-14 19:18:17,893 - distributed.scheduler - INFO - Register worker &lt;WorkerState &#x27;tcp://127.0.0.1:43797&#x27;, name: 0, status: running, memory: 0, processing: 0&gt;</p>\n",
       "    \n",
       "\n",
       "    \n",
       "        <p style=\"font-family: monospace; margin: 0;\">2023-11-14 19:18:16,544 - distributed.scheduler - INFO - Registering Worker plugin shuffle</p>\n",
       "    \n",
       "\n",
       "    \n",
       "        <p style=\"font-family: monospace; margin: 0;\">2023-11-14 19:18:16,544 - distributed.scheduler - INFO -   dashboard at:  http://127.0.0.1:8787/status</p>\n",
       "    \n",
       "\n",
       "    \n",
       "        <p style=\"font-family: monospace; margin: 0;\">2023-11-14 19:18:16,544 - distributed.scheduler - INFO -   Scheduler at:     tcp://127.0.0.1:42785</p>\n",
       "    \n",
       "\n",
       "    \n",
       "        <p style=\"font-family: monospace; margin: 0;\">2023-11-14 19:18:16,540 - distributed.scheduler - INFO - State start</p>\n",
       "    \n",
       "\n",
       "    </details>\n",
       "\n",
       "    <details>\n",
       "    <summary style='display:list-item'>tcp://127.0.0.1:43797</summary>\n",
       "    \n",
       "    \n",
       "        <p style=\"font-family: monospace; margin: 0;\">2023-11-14 19:18:17,897 - distributed.worker - INFO - -------------------------------------------------</p>\n",
       "    \n",
       "\n",
       "    \n",
       "        <p style=\"font-family: monospace; margin: 0;\">2023-11-14 19:18:17,897 - distributed.worker - INFO -         Registered to:      tcp://127.0.0.1:42785</p>\n",
       "    \n",
       "\n",
       "    \n",
       "        <p style=\"font-family: monospace; margin: 0;\">2023-11-14 19:18:17,896 - distributed.worker - INFO - Starting Worker plugin shuffle</p>\n",
       "    \n",
       "\n",
       "    \n",
       "        <p style=\"font-family: monospace; margin: 0;\">2023-11-14 19:18:17,428 - distributed.worker - INFO - -------------------------------------------------</p>\n",
       "    \n",
       "\n",
       "    \n",
       "        <p style=\"font-family: monospace; margin: 0;\">2023-11-14 19:18:17,428 - distributed.worker - INFO -       Local Directory: /tmp/dask-scratch-space/worker-ds82ivqi</p>\n",
       "    \n",
       "\n",
       "    \n",
       "        <p style=\"font-family: monospace; margin: 0;\">2023-11-14 19:18:17,428 - distributed.worker - INFO -                Memory:                   3.20 GiB</p>\n",
       "    \n",
       "\n",
       "    \n",
       "        <p style=\"font-family: monospace; margin: 0;\">2023-11-14 19:18:17,428 - distributed.worker - INFO -               Threads:                          1</p>\n",
       "    \n",
       "\n",
       "    \n",
       "        <p style=\"font-family: monospace; margin: 0;\">2023-11-14 19:18:17,428 - distributed.worker - INFO - -------------------------------------------------</p>\n",
       "    \n",
       "\n",
       "    \n",
       "        <p style=\"font-family: monospace; margin: 0;\">2023-11-14 19:18:17,428 - distributed.worker - INFO - Waiting to connect to:      tcp://127.0.0.1:42785</p>\n",
       "    \n",
       "\n",
       "    \n",
       "        <p style=\"font-family: monospace; margin: 0;\">2023-11-14 19:18:17,428 - distributed.worker - INFO -          dashboard at:            127.0.0.1:41797</p>\n",
       "    \n",
       "\n",
       "    \n",
       "        <p style=\"font-family: monospace; margin: 0;\">2023-11-14 19:18:17,428 - distributed.worker - INFO -           Worker name:                          0</p>\n",
       "    \n",
       "\n",
       "    \n",
       "        <p style=\"font-family: monospace; margin: 0;\">2023-11-14 19:18:17,428 - distributed.worker - INFO -          Listening to:      tcp://127.0.0.1:43797</p>\n",
       "    \n",
       "\n",
       "    \n",
       "        <p style=\"font-family: monospace; margin: 0;\">2023-11-14 19:18:17,428 - distributed.worker - INFO -       Start worker at:      tcp://127.0.0.1:43797</p>\n",
       "    \n",
       "\n",
       "    </details>\n",
       "\n",
       "    <details>\n",
       "    <summary style='display:list-item'>tcp://127.0.0.1:44925</summary>\n",
       "    \n",
       "    \n",
       "        <p style=\"font-family: monospace; margin: 0;\">2023-11-14 19:18:17,925 - distributed.worker - INFO - -------------------------------------------------</p>\n",
       "    \n",
       "\n",
       "    \n",
       "        <p style=\"font-family: monospace; margin: 0;\">2023-11-14 19:18:17,924 - distributed.worker - INFO -         Registered to:      tcp://127.0.0.1:42785</p>\n",
       "    \n",
       "\n",
       "    \n",
       "        <p style=\"font-family: monospace; margin: 0;\">2023-11-14 19:18:17,924 - distributed.worker - INFO - Starting Worker plugin shuffle</p>\n",
       "    \n",
       "\n",
       "    \n",
       "        <p style=\"font-family: monospace; margin: 0;\">2023-11-14 19:18:17,486 - distributed.worker - INFO - -------------------------------------------------</p>\n",
       "    \n",
       "\n",
       "    \n",
       "        <p style=\"font-family: monospace; margin: 0;\">2023-11-14 19:18:17,486 - distributed.worker - INFO -       Local Directory: /tmp/dask-scratch-space/worker-7t8fbotr</p>\n",
       "    \n",
       "\n",
       "    \n",
       "        <p style=\"font-family: monospace; margin: 0;\">2023-11-14 19:18:17,486 - distributed.worker - INFO -                Memory:                   3.20 GiB</p>\n",
       "    \n",
       "\n",
       "    \n",
       "        <p style=\"font-family: monospace; margin: 0;\">2023-11-14 19:18:17,486 - distributed.worker - INFO -               Threads:                          1</p>\n",
       "    \n",
       "\n",
       "    \n",
       "        <p style=\"font-family: monospace; margin: 0;\">2023-11-14 19:18:17,486 - distributed.worker - INFO - -------------------------------------------------</p>\n",
       "    \n",
       "\n",
       "    \n",
       "        <p style=\"font-family: monospace; margin: 0;\">2023-11-14 19:18:17,486 - distributed.worker - INFO - Waiting to connect to:      tcp://127.0.0.1:42785</p>\n",
       "    \n",
       "\n",
       "    \n",
       "        <p style=\"font-family: monospace; margin: 0;\">2023-11-14 19:18:17,486 - distributed.worker - INFO -          dashboard at:            127.0.0.1:42499</p>\n",
       "    \n",
       "\n",
       "    \n",
       "        <p style=\"font-family: monospace; margin: 0;\">2023-11-14 19:18:17,486 - distributed.worker - INFO -           Worker name:                          1</p>\n",
       "    \n",
       "\n",
       "    \n",
       "        <p style=\"font-family: monospace; margin: 0;\">2023-11-14 19:18:17,486 - distributed.worker - INFO -          Listening to:      tcp://127.0.0.1:44925</p>\n",
       "    \n",
       "\n",
       "    \n",
       "        <p style=\"font-family: monospace; margin: 0;\">2023-11-14 19:18:17,486 - distributed.worker - INFO -       Start worker at:      tcp://127.0.0.1:44925</p>\n",
       "    \n",
       "\n",
       "    </details>\n"
      ],
      "text/plain": [
       "{'Cluster': '',\n",
       " 'Scheduler': \"2023-11-14 19:18:17,980 - distributed.scheduler - INFO - Receive client connection: Client-90fe172d-8322-11ee-8284-e3296a9ed675\\n2023-11-14 19:18:17,923 - distributed.scheduler - INFO - Starting worker compute stream, tcp://127.0.0.1:44925\\n2023-11-14 19:18:17,923 - distributed.scheduler - INFO - Register worker <WorkerState 'tcp://127.0.0.1:44925', name: 1, status: running, memory: 0, processing: 0>\\n2023-11-14 19:18:17,894 - distributed.scheduler - INFO - Starting worker compute stream, tcp://127.0.0.1:43797\\n2023-11-14 19:18:17,893 - distributed.scheduler - INFO - Register worker <WorkerState 'tcp://127.0.0.1:43797', name: 0, status: running, memory: 0, processing: 0>\\n2023-11-14 19:18:16,544 - distributed.scheduler - INFO - Registering Worker plugin shuffle\\n2023-11-14 19:18:16,544 - distributed.scheduler - INFO -   dashboard at:  http://127.0.0.1:8787/status\\n2023-11-14 19:18:16,544 - distributed.scheduler - INFO -   Scheduler at:     tcp://127.0.0.1:42785\\n2023-11-14 19:18:16,540 - distributed.scheduler - INFO - State start\",\n",
       " 'tcp://127.0.0.1:43797': '2023-11-14 19:18:17,897 - distributed.worker - INFO - -------------------------------------------------\\n2023-11-14 19:18:17,897 - distributed.worker - INFO -         Registered to:      tcp://127.0.0.1:42785\\n2023-11-14 19:18:17,896 - distributed.worker - INFO - Starting Worker plugin shuffle\\n2023-11-14 19:18:17,428 - distributed.worker - INFO - -------------------------------------------------\\n2023-11-14 19:18:17,428 - distributed.worker - INFO -       Local Directory: /tmp/dask-scratch-space/worker-ds82ivqi\\n2023-11-14 19:18:17,428 - distributed.worker - INFO -                Memory:                   3.20 GiB\\n2023-11-14 19:18:17,428 - distributed.worker - INFO -               Threads:                          1\\n2023-11-14 19:18:17,428 - distributed.worker - INFO - -------------------------------------------------\\n2023-11-14 19:18:17,428 - distributed.worker - INFO - Waiting to connect to:      tcp://127.0.0.1:42785\\n2023-11-14 19:18:17,428 - distributed.worker - INFO -          dashboard at:            127.0.0.1:41797\\n2023-11-14 19:18:17,428 - distributed.worker - INFO -           Worker name:                          0\\n2023-11-14 19:18:17,428 - distributed.worker - INFO -          Listening to:      tcp://127.0.0.1:43797\\n2023-11-14 19:18:17,428 - distributed.worker - INFO -       Start worker at:      tcp://127.0.0.1:43797',\n",
       " 'tcp://127.0.0.1:44925': '2023-11-14 19:18:17,925 - distributed.worker - INFO - -------------------------------------------------\\n2023-11-14 19:18:17,924 - distributed.worker - INFO -         Registered to:      tcp://127.0.0.1:42785\\n2023-11-14 19:18:17,924 - distributed.worker - INFO - Starting Worker plugin shuffle\\n2023-11-14 19:18:17,486 - distributed.worker - INFO - -------------------------------------------------\\n2023-11-14 19:18:17,486 - distributed.worker - INFO -       Local Directory: /tmp/dask-scratch-space/worker-7t8fbotr\\n2023-11-14 19:18:17,486 - distributed.worker - INFO -                Memory:                   3.20 GiB\\n2023-11-14 19:18:17,486 - distributed.worker - INFO -               Threads:                          1\\n2023-11-14 19:18:17,486 - distributed.worker - INFO - -------------------------------------------------\\n2023-11-14 19:18:17,486 - distributed.worker - INFO - Waiting to connect to:      tcp://127.0.0.1:42785\\n2023-11-14 19:18:17,486 - distributed.worker - INFO -          dashboard at:            127.0.0.1:42499\\n2023-11-14 19:18:17,486 - distributed.worker - INFO -           Worker name:                          1\\n2023-11-14 19:18:17,486 - distributed.worker - INFO -          Listening to:      tcp://127.0.0.1:44925\\n2023-11-14 19:18:17,486 - distributed.worker - INFO -       Start worker at:      tcp://127.0.0.1:44925'}"
      ]
     },
     "execution_count": 10,
     "metadata": {},
     "output_type": "execute_result"
    }
   ],
   "source": [
    "cluster.get_logs()"
   ]
  },
  {
   "cell_type": "markdown",
   "id": "e348b90b",
   "metadata": {},
   "source": [
    "After initiating the scale up of cluster give it about 5 minutes for the additional compute to become available. Note the CPU and memory resources now available to the cluster.This cluster now has 6 works with 12 cores and 24GB RAM (recall we had 2 vCPUs and 4 GB per worker)."
   ]
  },
  {
   "cell_type": "markdown",
   "id": "18d62f5c",
   "metadata": {},
   "source": [
    "---\n",
    "\n",
    "## Exploratory Data Analytics\n",
    "\n",
    "We will be reading the new york taxi dataset for 2021 and running some analytics on it.\n",
    "\n",
    "1. Note the similarity between the Dask dataframe API and the Pandas API.\n",
    "\n",
    "1. Note that we are able to read all the files in one call using the `*` wildcard character.\n",
    "\n",
    "Since this is a local cluster we will not be reading the entire year's worth of file, but just for one month."
   ]
  },
  {
   "cell_type": "markdown",
   "id": "d90a3bca",
   "metadata": {},
   "source": [
    "### [TASK 1] Read the files for the last 3 months of the year\n",
    "\n",
    "The demo in the class only read the file for December, for this task we need to read the files for the last **3 months** i.e. October, November and December."
   ]
  },
  {
   "cell_type": "code",
   "execution_count": 11,
   "id": "5532329b",
   "metadata": {
    "tags": []
   },
   "outputs": [],
   "source": [
    "# read the data directly from S3, data is accessible with anonymous credentials\n",
    "months = \"1*\"\n",
    "df = dd.read_parquet(f's3://nyc-tlc/trip data/yellow_tripdata_2021-{months}.parquet',                 \n",
    "                     parse_dates=['tpep_pickup_datetime','tpep_dropoff_datetime'])"
   ]
  },
  {
   "cell_type": "markdown",
   "id": "e28fcbed",
   "metadata": {},
   "source": [
    "The data frame is lazy loaded and is automatically partitioned (you can control this by specifying the `blocksize` parameter, see [read_csv](https://docs.dask.org/en/stable/generated/dask.dataframe.read_csv.html))."
   ]
  },
  {
   "cell_type": "code",
   "execution_count": 12,
   "id": "839efa47",
   "metadata": {
    "tags": []
   },
   "outputs": [
    {
     "data": {
      "text/html": [
       "<div><strong>Dask DataFrame Structure:</strong></div>\n",
       "<div>\n",
       "<style scoped>\n",
       "    .dataframe tbody tr th:only-of-type {\n",
       "        vertical-align: middle;\n",
       "    }\n",
       "\n",
       "    .dataframe tbody tr th {\n",
       "        vertical-align: top;\n",
       "    }\n",
       "\n",
       "    .dataframe thead th {\n",
       "        text-align: right;\n",
       "    }\n",
       "</style>\n",
       "<table border=\"1\" class=\"dataframe\">\n",
       "  <thead>\n",
       "    <tr style=\"text-align: right;\">\n",
       "      <th></th>\n",
       "      <th>VendorID</th>\n",
       "      <th>tpep_pickup_datetime</th>\n",
       "      <th>tpep_dropoff_datetime</th>\n",
       "      <th>passenger_count</th>\n",
       "      <th>trip_distance</th>\n",
       "      <th>RatecodeID</th>\n",
       "      <th>store_and_fwd_flag</th>\n",
       "      <th>PULocationID</th>\n",
       "      <th>DOLocationID</th>\n",
       "      <th>payment_type</th>\n",
       "      <th>fare_amount</th>\n",
       "      <th>extra</th>\n",
       "      <th>mta_tax</th>\n",
       "      <th>tip_amount</th>\n",
       "      <th>tolls_amount</th>\n",
       "      <th>improvement_surcharge</th>\n",
       "      <th>total_amount</th>\n",
       "      <th>congestion_surcharge</th>\n",
       "      <th>airport_fee</th>\n",
       "    </tr>\n",
       "    <tr>\n",
       "      <th>npartitions=3</th>\n",
       "      <th></th>\n",
       "      <th></th>\n",
       "      <th></th>\n",
       "      <th></th>\n",
       "      <th></th>\n",
       "      <th></th>\n",
       "      <th></th>\n",
       "      <th></th>\n",
       "      <th></th>\n",
       "      <th></th>\n",
       "      <th></th>\n",
       "      <th></th>\n",
       "      <th></th>\n",
       "      <th></th>\n",
       "      <th></th>\n",
       "      <th></th>\n",
       "      <th></th>\n",
       "      <th></th>\n",
       "      <th></th>\n",
       "    </tr>\n",
       "  </thead>\n",
       "  <tbody>\n",
       "    <tr>\n",
       "      <th></th>\n",
       "      <td>int64</td>\n",
       "      <td>datetime64[ns]</td>\n",
       "      <td>datetime64[ns]</td>\n",
       "      <td>float64</td>\n",
       "      <td>float64</td>\n",
       "      <td>float64</td>\n",
       "      <td>object</td>\n",
       "      <td>int64</td>\n",
       "      <td>int64</td>\n",
       "      <td>int64</td>\n",
       "      <td>float64</td>\n",
       "      <td>float64</td>\n",
       "      <td>float64</td>\n",
       "      <td>float64</td>\n",
       "      <td>float64</td>\n",
       "      <td>float64</td>\n",
       "      <td>float64</td>\n",
       "      <td>float64</td>\n",
       "      <td>float64</td>\n",
       "    </tr>\n",
       "    <tr>\n",
       "      <th></th>\n",
       "      <td>...</td>\n",
       "      <td>...</td>\n",
       "      <td>...</td>\n",
       "      <td>...</td>\n",
       "      <td>...</td>\n",
       "      <td>...</td>\n",
       "      <td>...</td>\n",
       "      <td>...</td>\n",
       "      <td>...</td>\n",
       "      <td>...</td>\n",
       "      <td>...</td>\n",
       "      <td>...</td>\n",
       "      <td>...</td>\n",
       "      <td>...</td>\n",
       "      <td>...</td>\n",
       "      <td>...</td>\n",
       "      <td>...</td>\n",
       "      <td>...</td>\n",
       "      <td>...</td>\n",
       "    </tr>\n",
       "    <tr>\n",
       "      <th></th>\n",
       "      <td>...</td>\n",
       "      <td>...</td>\n",
       "      <td>...</td>\n",
       "      <td>...</td>\n",
       "      <td>...</td>\n",
       "      <td>...</td>\n",
       "      <td>...</td>\n",
       "      <td>...</td>\n",
       "      <td>...</td>\n",
       "      <td>...</td>\n",
       "      <td>...</td>\n",
       "      <td>...</td>\n",
       "      <td>...</td>\n",
       "      <td>...</td>\n",
       "      <td>...</td>\n",
       "      <td>...</td>\n",
       "      <td>...</td>\n",
       "      <td>...</td>\n",
       "      <td>...</td>\n",
       "    </tr>\n",
       "    <tr>\n",
       "      <th></th>\n",
       "      <td>...</td>\n",
       "      <td>...</td>\n",
       "      <td>...</td>\n",
       "      <td>...</td>\n",
       "      <td>...</td>\n",
       "      <td>...</td>\n",
       "      <td>...</td>\n",
       "      <td>...</td>\n",
       "      <td>...</td>\n",
       "      <td>...</td>\n",
       "      <td>...</td>\n",
       "      <td>...</td>\n",
       "      <td>...</td>\n",
       "      <td>...</td>\n",
       "      <td>...</td>\n",
       "      <td>...</td>\n",
       "      <td>...</td>\n",
       "      <td>...</td>\n",
       "      <td>...</td>\n",
       "    </tr>\n",
       "  </tbody>\n",
       "</table>\n",
       "</div>\n",
       "<div>Dask Name: read-parquet, 1 graph layer</div>"
      ],
      "text/plain": [
       "Dask DataFrame Structure:\n",
       "              VendorID tpep_pickup_datetime tpep_dropoff_datetime passenger_count trip_distance RatecodeID store_and_fwd_flag PULocationID DOLocationID payment_type fare_amount    extra  mta_tax tip_amount tolls_amount improvement_surcharge total_amount congestion_surcharge airport_fee\n",
       "npartitions=3                                                                                                                                                                                                                                                                                 \n",
       "                 int64       datetime64[ns]        datetime64[ns]         float64       float64    float64             object        int64        int64        int64     float64  float64  float64    float64      float64               float64      float64              float64     float64\n",
       "                   ...                  ...                   ...             ...           ...        ...                ...          ...          ...          ...         ...      ...      ...        ...          ...                   ...          ...                  ...         ...\n",
       "                   ...                  ...                   ...             ...           ...        ...                ...          ...          ...          ...         ...      ...      ...        ...          ...                   ...          ...                  ...         ...\n",
       "                   ...                  ...                   ...             ...           ...        ...                ...          ...          ...          ...         ...      ...      ...        ...          ...                   ...          ...                  ...         ...\n",
       "Dask Name: read-parquet, 1 graph layer"
      ]
     },
     "execution_count": 12,
     "metadata": {},
     "output_type": "execute_result"
    }
   ],
   "source": [
    "df"
   ]
  },
  {
   "cell_type": "markdown",
   "id": "bb1eb4ff",
   "metadata": {},
   "source": [
    "How many rows did we read? Well, the `shape` attribute does not give us the number of rows because this dataframe is not yet been loaded into the memory only a DAG has been created for reading it. `shape` will tell us the number of columns, to get the number of rows we will have to do a `len`. The data contains about ~31 million rows."
   ]
  },
  {
   "cell_type": "code",
   "execution_count": 13,
   "id": "51dea58c",
   "metadata": {
    "tags": []
   },
   "outputs": [
    {
     "data": {
      "text/plain": [
       "(Delayed('int-1accd42b-18b7-4856-a417-64dbf3223f49'), 19)"
      ]
     },
     "execution_count": 13,
     "metadata": {},
     "output_type": "execute_result"
    }
   ],
   "source": [
    "df.shape"
   ]
  },
  {
   "cell_type": "code",
   "execution_count": 14,
   "id": "e9676b79",
   "metadata": {
    "tags": []
   },
   "outputs": [
    {
     "name": "stderr",
     "output_type": "stream",
     "text": [
      "/opt/conda/lib/python3.10/site-packages/dask/dataframe/_pyarrow_compat.py:17: FutureWarning: Minimal version of pyarrow will soon be increased to 14.0.1. You are using 14.0.0. Please consider upgrading.\n",
      "  warnings.warn(\n",
      "/opt/conda/lib/python3.10/site-packages/dask/dataframe/_pyarrow_compat.py:17: FutureWarning: Minimal version of pyarrow will soon be increased to 14.0.1. You are using 14.0.0. Please consider upgrading.\n",
      "  warnings.warn(\n"
     ]
    },
    {
     "name": "stdout",
     "output_type": "stream",
     "text": [
      "10,150,822\n",
      "CPU times: user 236 ms, sys: 20.6 ms, total: 257 ms\n",
      "Wall time: 2.34 s\n"
     ]
    }
   ],
   "source": [
    "%%time\n",
    "print(f\"{len(df):,}\") "
   ]
  },
  {
   "cell_type": "markdown",
   "id": "02ead5ab",
   "metadata": {},
   "source": [
    "Let's find out average trip distance and total count."
   ]
  },
  {
   "cell_type": "code",
   "execution_count": 15,
   "id": "441c6e73",
   "metadata": {
    "tags": []
   },
   "outputs": [
    {
     "name": "stdout",
     "output_type": "stream",
     "text": [
      "CPU times: user 169 ms, sys: 21.4 ms, total: 190 ms\n",
      "Wall time: 1.12 s\n"
     ]
    },
    {
     "data": {
      "text/html": [
       "<div>\n",
       "<style scoped>\n",
       "    .dataframe tbody tr th:only-of-type {\n",
       "        vertical-align: middle;\n",
       "    }\n",
       "\n",
       "    .dataframe tbody tr th {\n",
       "        vertical-align: top;\n",
       "    }\n",
       "\n",
       "    .dataframe thead th {\n",
       "        text-align: right;\n",
       "    }\n",
       "</style>\n",
       "<table border=\"1\" class=\"dataframe\">\n",
       "  <thead>\n",
       "    <tr style=\"text-align: right;\">\n",
       "      <th></th>\n",
       "      <th>feature</th>\n",
       "      <th>mean</th>\n",
       "    </tr>\n",
       "  </thead>\n",
       "  <tbody>\n",
       "    <tr>\n",
       "      <th>0</th>\n",
       "      <td>trip_distance</td>\n",
       "      <td>7.251318</td>\n",
       "    </tr>\n",
       "    <tr>\n",
       "      <th>1</th>\n",
       "      <td>total_amount</td>\n",
       "      <td>20.606048</td>\n",
       "    </tr>\n",
       "  </tbody>\n",
       "</table>\n",
       "</div>"
      ],
      "text/plain": [
       "         feature       mean\n",
       "0  trip_distance   7.251318\n",
       "1   total_amount  20.606048"
      ]
     },
     "execution_count": 15,
     "metadata": {},
     "output_type": "execute_result"
    }
   ],
   "source": [
    "%%time\n",
    "start = time.perf_counter()\n",
    "results = df[['trip_distance', 'total_amount']].mean().compute().to_frame().reset_index()\n",
    "end = time.perf_counter()\n",
    "\n",
    "# set column names for the resulting dataframe\n",
    "results.columns = [\"feature\", \"mean\"]\n",
    "results"
   ]
  },
  {
   "cell_type": "markdown",
   "id": "871d8fbb",
   "metadata": {},
   "source": [
    "---\n",
    "\n",
    "\n",
    "## Scale out the cluster to see if the operations become faster\n",
    "\n",
    "It would make sense to say that if we double the size of the cluster then the time taken for the analytics task should reduce. Let us do that and see if it happens. We look at the cluster web portal to see that the number of tasks have increased.\n"
   ]
  },
  {
   "cell_type": "code",
   "execution_count": 16,
   "id": "35beecf3",
   "metadata": {
    "tags": []
   },
   "outputs": [
    {
     "data": {
      "text/plain": [
       "<distributed.deploy.adaptive.Adaptive at 0x7fb6ec873490>"
      ]
     },
     "execution_count": 16,
     "metadata": {},
     "output_type": "execute_result"
    }
   ],
   "source": [
    "cluster.scale(8)  # Sets the number of workers \n",
    "\n",
    "cluster.adapt(minimum=1, maximum=8)  # Allows the cluster to auto scale when tasks are computed"
   ]
  },
  {
   "cell_type": "code",
   "execution_count": 17,
   "id": "755a2986",
   "metadata": {
    "tags": []
   },
   "outputs": [
    {
     "data": {
      "application/vnd.jupyter.widget-view+json": {
       "model_id": "1e9afaea388c4aa289261fb72980dccc",
       "version_major": 2,
       "version_minor": 0
      },
      "text/plain": [
       "Tab(children=(HTML(value='<div class=\"jp-RenderedHTMLCommon jp-RenderedHTML jp-mod-trusted jp-OutputArea-outpu…"
      ]
     },
     "metadata": {},
     "output_type": "display_data"
    }
   ],
   "source": [
    "client.cluster"
   ]
  },
  {
   "cell_type": "code",
   "execution_count": 18,
   "id": "a2257e99",
   "metadata": {
    "tags": []
   },
   "outputs": [
    {
     "name": "stdout",
     "output_type": "stream",
     "text": [
      "CPU times: user 467 ms, sys: 25.9 ms, total: 493 ms\n",
      "Wall time: 3.19 s\n"
     ]
    },
    {
     "data": {
      "text/html": [
       "<div>\n",
       "<style scoped>\n",
       "    .dataframe tbody tr th:only-of-type {\n",
       "        vertical-align: middle;\n",
       "    }\n",
       "\n",
       "    .dataframe tbody tr th {\n",
       "        vertical-align: top;\n",
       "    }\n",
       "\n",
       "    .dataframe thead th {\n",
       "        text-align: right;\n",
       "    }\n",
       "</style>\n",
       "<table border=\"1\" class=\"dataframe\">\n",
       "  <thead>\n",
       "    <tr style=\"text-align: right;\">\n",
       "      <th></th>\n",
       "      <th>feature</th>\n",
       "      <th>mean</th>\n",
       "    </tr>\n",
       "  </thead>\n",
       "  <tbody>\n",
       "    <tr>\n",
       "      <th>0</th>\n",
       "      <td>trip_distance</td>\n",
       "      <td>7.251318</td>\n",
       "    </tr>\n",
       "    <tr>\n",
       "      <th>1</th>\n",
       "      <td>total_amount</td>\n",
       "      <td>20.606048</td>\n",
       "    </tr>\n",
       "  </tbody>\n",
       "</table>\n",
       "</div>"
      ],
      "text/plain": [
       "         feature       mean\n",
       "0  trip_distance   7.251318\n",
       "1   total_amount  20.606048"
      ]
     },
     "execution_count": 18,
     "metadata": {},
     "output_type": "execute_result"
    }
   ],
   "source": [
    "%%time\n",
    "start = time.perf_counter()\n",
    "results = df[['trip_distance', 'total_amount']].mean().compute().to_frame().reset_index()\n",
    "end = time.perf_counter()\n",
    "\n",
    "# set column names for the resulting dataframe\n",
    "results.columns = [\"feature\", \"mean\"]\n",
    "results"
   ]
  },
  {
   "cell_type": "markdown",
   "id": "7d45ea68",
   "metadata": {},
   "source": [
    "**_As you can see, scaling out on the same instance does not help much because we were already at 100% CPU utilization on all the CPUs prior to scaling out. This is different from what we saw on a distributed cluster where scaling out truly made a difference._**"
   ]
  },
  {
   "cell_type": "markdown",
   "id": "385bf9f7",
   "metadata": {},
   "source": [
    "Here is a screenshot from htop about the memory and CPU utilization from all the tasks.\n",
    "\n"
   ]
  },
  {
   "cell_type": "markdown",
   "id": "fba131d0",
   "metadata": {},
   "source": [
    "![](img/dask-ui-local-1.png)"
   ]
  },
  {
   "cell_type": "markdown",
   "id": "cb0070b2",
   "metadata": {},
   "source": [
    "#### Count the total trip distance and count for each vendor"
   ]
  },
  {
   "cell_type": "code",
   "execution_count": 19,
   "id": "e0ba6bda",
   "metadata": {
    "tags": []
   },
   "outputs": [
    {
     "name": "stderr",
     "output_type": "stream",
     "text": [
      "2023-11-14 19:18:36,185 - distributed.core - INFO - Connection to tcp://127.0.0.1:42785 has been closed.\n",
      "2023-11-14 19:18:36,187 - distributed.core - INFO - Connection to tcp://127.0.0.1:42785 has been closed.\n",
      "2023-11-14 19:18:36,190 - distributed.core - INFO - Connection to tcp://127.0.0.1:42785 has been closed.\n",
      "2023-11-14 19:18:36,203 - distributed.core - INFO - Connection to tcp://127.0.0.1:42785 has been closed.\n",
      "/opt/conda/lib/python3.10/site-packages/dask/dataframe/_pyarrow_compat.py:17: FutureWarning: Minimal version of pyarrow will soon be increased to 14.0.1. You are using 14.0.0. Please consider upgrading.\n",
      "  warnings.warn(\n",
      "2023-11-14 19:18:36,358 - distributed.scheduler - WARNING - Received heartbeat from unregistered worker 'tcp://127.0.0.1:39581'.\n",
      "2023-11-14 19:18:36,361 - distributed.worker - ERROR - Scheduler was unaware of this worker 'tcp://127.0.0.1:39581'. Shutting down.\n",
      "2023-11-14 19:18:39,422 - distributed.nanny - WARNING - Worker process still alive after 3.1999987792968754 seconds, killing\n"
     ]
    },
    {
     "name": "stdout",
     "output_type": "stream",
     "text": [
      "CPU times: user 440 ms, sys: 77.3 ms, total: 517 ms\n",
      "Wall time: 3.27 s\n"
     ]
    },
    {
     "data": {
      "text/html": [
       "<div>\n",
       "<style scoped>\n",
       "    .dataframe tbody tr th:only-of-type {\n",
       "        vertical-align: middle;\n",
       "    }\n",
       "\n",
       "    .dataframe tbody tr th {\n",
       "        vertical-align: top;\n",
       "    }\n",
       "\n",
       "    .dataframe thead th {\n",
       "        text-align: right;\n",
       "    }\n",
       "</style>\n",
       "<table border=\"1\" class=\"dataframe\">\n",
       "  <thead>\n",
       "    <tr style=\"text-align: right;\">\n",
       "      <th></th>\n",
       "      <th>passenger_count</th>\n",
       "      <th>trip_distance</th>\n",
       "    </tr>\n",
       "    <tr>\n",
       "      <th>VendorID</th>\n",
       "      <th></th>\n",
       "      <th></th>\n",
       "    </tr>\n",
       "  </thead>\n",
       "  <tbody>\n",
       "    <tr>\n",
       "      <th>1</th>\n",
       "      <td>3031757</td>\n",
       "      <td>9641521</td>\n",
       "    </tr>\n",
       "    <tr>\n",
       "      <th>2</th>\n",
       "      <td>6752842</td>\n",
       "      <td>63795736</td>\n",
       "    </tr>\n",
       "    <tr>\n",
       "      <th>6</th>\n",
       "      <td>0</td>\n",
       "      <td>169316</td>\n",
       "    </tr>\n",
       "    <tr>\n",
       "      <th>5</th>\n",
       "      <td>0</td>\n",
       "      <td>265</td>\n",
       "    </tr>\n",
       "  </tbody>\n",
       "</table>\n",
       "</div>"
      ],
      "text/plain": [
       "          passenger_count  trip_distance\n",
       "VendorID                                \n",
       "1                 3031757        9641521\n",
       "2                 6752842       63795736\n",
       "6                       0         169316\n",
       "5                       0            265"
      ]
     },
     "execution_count": 19,
     "metadata": {},
     "output_type": "execute_result"
    },
    {
     "name": "stderr",
     "output_type": "stream",
     "text": [
      "2023-11-14 19:18:40,145 - distributed.core - INFO - Connection to tcp://127.0.0.1:42785 has been closed.\n"
     ]
    }
   ],
   "source": [
    "%%time\n",
    "df.groupby('VendorID').agg({'passenger_count':'count', 'trip_distance': 'sum'}).astype(int).compute()"
   ]
  },
  {
   "cell_type": "markdown",
   "id": "4f5174bc",
   "metadata": {},
   "source": [
    "### Selecting top 10 rides based on fare amount"
   ]
  },
  {
   "cell_type": "code",
   "execution_count": 20,
   "id": "fdc5de2b",
   "metadata": {
    "tags": []
   },
   "outputs": [
    {
     "name": "stdout",
     "output_type": "stream",
     "text": [
      "CPU times: user 185 ms, sys: 32.6 ms, total: 218 ms\n",
      "Wall time: 1.44 s\n"
     ]
    }
   ],
   "source": [
    "%%time\n",
    "most_paid_rides_dask = df[['PULocationID', 'fare_amount']].nlargest(10, \"fare_amount\").compute()"
   ]
  },
  {
   "cell_type": "code",
   "execution_count": 21,
   "id": "558d8612",
   "metadata": {
    "tags": []
   },
   "outputs": [
    {
     "data": {
      "text/html": [
       "<div>\n",
       "<style scoped>\n",
       "    .dataframe tbody tr th:only-of-type {\n",
       "        vertical-align: middle;\n",
       "    }\n",
       "\n",
       "    .dataframe tbody tr th {\n",
       "        vertical-align: top;\n",
       "    }\n",
       "\n",
       "    .dataframe thead th {\n",
       "        text-align: right;\n",
       "    }\n",
       "</style>\n",
       "<table border=\"1\" class=\"dataframe\">\n",
       "  <thead>\n",
       "    <tr style=\"text-align: right;\">\n",
       "      <th></th>\n",
       "      <th>PULocationID</th>\n",
       "      <th>fare_amount</th>\n",
       "    </tr>\n",
       "  </thead>\n",
       "  <tbody>\n",
       "    <tr>\n",
       "      <th>2614048</th>\n",
       "      <td>143</td>\n",
       "      <td>3009.0</td>\n",
       "    </tr>\n",
       "    <tr>\n",
       "      <th>1348192</th>\n",
       "      <td>183</td>\n",
       "      <td>1217.0</td>\n",
       "    </tr>\n",
       "    <tr>\n",
       "      <th>1555201</th>\n",
       "      <td>132</td>\n",
       "      <td>1043.5</td>\n",
       "    </tr>\n",
       "    <tr>\n",
       "      <th>1402852</th>\n",
       "      <td>265</td>\n",
       "      <td>1025.0</td>\n",
       "    </tr>\n",
       "    <tr>\n",
       "      <th>676067</th>\n",
       "      <td>265</td>\n",
       "      <td>984.0</td>\n",
       "    </tr>\n",
       "    <tr>\n",
       "      <th>676066</th>\n",
       "      <td>265</td>\n",
       "      <td>980.0</td>\n",
       "    </tr>\n",
       "    <tr>\n",
       "      <th>2689554</th>\n",
       "      <td>265</td>\n",
       "      <td>950.0</td>\n",
       "    </tr>\n",
       "    <tr>\n",
       "      <th>2817275</th>\n",
       "      <td>191</td>\n",
       "      <td>950.0</td>\n",
       "    </tr>\n",
       "    <tr>\n",
       "      <th>2817276</th>\n",
       "      <td>191</td>\n",
       "      <td>950.0</td>\n",
       "    </tr>\n",
       "    <tr>\n",
       "      <th>2966119</th>\n",
       "      <td>19</td>\n",
       "      <td>950.0</td>\n",
       "    </tr>\n",
       "  </tbody>\n",
       "</table>\n",
       "</div>"
      ],
      "text/plain": [
       "         PULocationID  fare_amount\n",
       "2614048           143       3009.0\n",
       "1348192           183       1217.0\n",
       "1555201           132       1043.5\n",
       "1402852           265       1025.0\n",
       "676067            265        984.0\n",
       "676066            265        980.0\n",
       "2689554           265        950.0\n",
       "2817275           191        950.0\n",
       "2817276           191        950.0\n",
       "2966119            19        950.0"
      ]
     },
     "execution_count": 21,
     "metadata": {},
     "output_type": "execute_result"
    }
   ],
   "source": [
    "most_paid_rides_dask"
   ]
  },
  {
   "cell_type": "markdown",
   "id": "b6f5f65c",
   "metadata": {},
   "source": [
    "Clearly these represent anomalies in the data, a fare amount of hundereds of thousdands of dollars!!!!"
   ]
  },
  {
   "cell_type": "code",
   "execution_count": 22,
   "id": "ee71d422",
   "metadata": {
    "tags": []
   },
   "outputs": [
    {
     "data": {
      "image/png": "[encoded data removed]",
      "text/plain": [
       "<Figure size 1000x800 with 1 Axes>"
      ]
     },
     "metadata": {},
     "output_type": "display_data"
    }
   ],
   "source": [
    "## Visualizing most paid rides through Barplot\n",
    "most_paid_rides_dask.set_index('PULocationID').plot(kind='barh',stacked=False, figsize=[10,8], legend=True)\n",
    "\n",
    "plt.title('Most Paid Rides')\n",
    "plt.xlabel('Fare Amount')\n",
    "plt.ylabel('PU LocationID')\n",
    "plt.show()"
   ]
  },
  {
   "cell_type": "markdown",
   "id": "c1585064",
   "metadata": {},
   "source": [
    "#### Visualizing trip distance through Barplot"
   ]
  },
  {
   "cell_type": "code",
   "execution_count": 23,
   "id": "3acca2c5",
   "metadata": {
    "tags": []
   },
   "outputs": [
    {
     "data": {
      "image/png": "[encoded data removed]",
      "text/plain": [
       "<Figure size 1000x800 with 1 Axes>"
      ]
     },
     "metadata": {},
     "output_type": "display_data"
    },
    {
     "name": "stderr",
     "output_type": "stream",
     "text": [
      "2023-11-14 19:18:47,142 - distributed.core - INFO - Connection to tcp://127.0.0.1:42785 has been closed.\n"
     ]
    }
   ],
   "source": [
    "most_paid_rides_dask2 = df[['trip_distance', 'fare_amount']].nlargest(10, \"trip_distance\").compute()\n",
    "most_paid_rides_dask2.set_index('trip_distance').plot(kind='bar', colormap='PiYG', stacked=False, figsize=[10,8], legend=True)\n",
    "\n",
    "plt.title('Fares by Distance')\n",
    "plt.xlabel('Trip Distance')\n",
    "plt.ylabel('Fare Amount')\n",
    "plt.show()"
   ]
  },
  {
   "cell_type": "markdown",
   "id": "89e9cc6a",
   "metadata": {},
   "source": [
    "### Let's view the quantile distribution, something we should have done earlier\n",
    "\n",
    "Clearly, anything about the 99th percentile as an anomaly."
   ]
  },
  {
   "cell_type": "markdown",
   "id": "fbfd8bb3",
   "metadata": {},
   "source": [
    "We can save the complete details of what Dask did for running our code using the `performance_report` function, see [diagnosing performance](https://distributed.dask.org/en/stable/diagnosing-performance.html). See example below. \n",
    "\n",
    "**_If your task completes and you get the results then you can ignore exceptions from individual Dask tasks, Dask will take care of restarting any failed tasks for you._**"
   ]
  },
  {
   "cell_type": "code",
   "execution_count": 24,
   "id": "c6fc05a6",
   "metadata": {
    "tags": []
   },
   "outputs": [
    {
     "name": "stdout",
     "output_type": "stream",
     "text": [
      "   index  trip_distance  fare_amount\n",
      "0   0.25           1.10          7.0\n",
      "1   0.50           1.85         10.0\n",
      "2   0.75           3.44         16.0\n",
      "3   0.95          13.63         47.5\n",
      "4   0.99          19.97         58.5\n",
      "5   1.00      351613.36       3009.0\n",
      "CPU times: user 856 ms, sys: 58.4 ms, total: 915 ms\n",
      "Wall time: 2.87 s\n"
     ]
    }
   ],
   "source": [
    "%%time\n",
    "with performance_report(filename=\"dask-report-quantiles.html\"):\n",
    "    df_quantiles = df[['trip_distance', 'fare_amount']].quantile([0.25, 0.5, 0.75, 0.95, 0.99, 1]).compute().reset_index()\n",
    "    print(df_quantiles)"
   ]
  },
  {
   "cell_type": "markdown",
   "id": "0f9f967c",
   "metadata": {},
   "source": [
    "---\n",
    "\n",
    "## [TASK 2] Remove anomalies and plot the distribution\n",
    "\n",
    "We remove the anomalies from the `trip_distance` and `fare_amount` fields and plot their distributions using `matplotlib` as a histogram. \n",
    "\n",
    "1. To remove the anomalies we keep all values that are `>= 0` and `<= 99th percentile`.\n",
    "1. The 99th percentile values for `fare_amount` and `trip_distance` should be saved in a file called `q99.csv` which should look like (numbers here are just example)\n",
    "    ```\n",
    "    trip_distance,fare_amount\n",
    "    12.34,5.23\n",
    "    ```\n",
    "1. The name of plot file for `fare_amount` should be `fare_amount.png`.\n",
    "1. The name of plot file for `trip_distance` should be `trip_distance.png`.\n"
   ]
  },
  {
   "cell_type": "code",
   "execution_count": 25,
   "id": "c14b19fe",
   "metadata": {
    "tags": []
   },
   "outputs": [],
   "source": [
    "# Keep values that are >= 0 and <= 99th percentile in the trip_distance and fare_amount fields\n",
    "trip_99p = df['trip_distance'].quantile(0.99).compute() #trip_distance\n",
    "fare_99p = df['fare_amount'].quantile(0.99).compute() #fare_amount\n",
    "\n",
    "# Filter out anomalies\n",
    "no_anomalies = df[(df['trip_distance'] <= trip_99p) & (df['trip_distance'] >= 0) & (df['fare_amount'] <= fare_99p) & (df['fare_amount'] >= 0)]"
   ]
  },
  {
   "cell_type": "code",
   "execution_count": 26,
   "id": "8960bf0e",
   "metadata": {
    "tags": []
   },
   "outputs": [],
   "source": [
    "# Get 99th percentile values for fare_amount and trip_distance in pandas df\n",
    "df_99p = pd.DataFrame({\n",
    "    'trip_distance': [trip_99p],\n",
    "    'fare_amount': [fare_99p]\n",
    "})\n",
    "\n",
    "# Explort to csv\n",
    "df_99p.to_csv('q99.csv')"
   ]
  },
  {
   "cell_type": "code",
   "execution_count": 27,
   "id": "4520f79f-b65a-4237-9de8-db61d0a44dde",
   "metadata": {
    "tags": []
   },
   "outputs": [
    {
     "name": "stderr",
     "output_type": "stream",
     "text": [
      "/opt/conda/lib/python3.10/site-packages/dask/dataframe/_pyarrow_compat.py:17: FutureWarning: Minimal version of pyarrow will soon be increased to 14.0.1. You are using 14.0.0. Please consider upgrading.\n",
      "  warnings.warn(\n",
      "2023-11-14 19:19:17,210 - distributed.worker.memory - WARNING - Unmanaged memory use is high. This may indicate a memory leak or the memory may not be released to the OS; see https://distributed.dask.org/en/latest/worker-memory.html#memory-not-released-back-to-the-os for more information. -- Unmanaged memory: 2.39 GiB -- Worker memory limit: 3.20 GiB\n",
      "2023-11-14 19:19:17,869 - distributed.worker.memory - WARNING - Worker is at 80% memory usage. Pausing worker.  Process memory: 2.58 GiB -- Worker memory limit: 3.20 GiB\n",
      "2023-11-14 19:19:18,530 - distributed.core - INFO - Connection to tcp://127.0.0.1:42785 has been closed.\n",
      "2023-11-14 19:19:19,660 - distributed.worker.memory - WARNING - Worker is at 74% memory usage. Resuming worker. Process memory: 2.40 GiB -- Worker memory limit: 3.20 GiB\n"
     ]
    }
   ],
   "source": [
    "# Compute filtered\n",
    "filtered = no_anomalies.compute()"
   ]
  },
  {
   "cell_type": "code",
   "execution_count": 32,
   "id": "1ed8c606",
   "metadata": {
    "tags": []
   },
   "outputs": [
    {
     "data": {
      "image/png": "[encoded data removed]",
      "text/plain": [
       "<Figure size 1000x800 with 1 Axes>"
      ]
     },
     "metadata": {},
     "output_type": "display_data"
    }
   ],
   "source": [
    "# Plot fare_amount\n",
    "plt.figure(figsize=(10, 8)) #size\n",
    "filtered['fare_amount'].hist(bins=40) #define bins\n",
    "plt.title('Fare Amount Distribution') #distribution title\n",
    "plt.xlabel('Fare Amount') #label x\n",
    "plt.ylabel('Frequency') #label y\n",
    "plt.savefig('fare_amount.png') #save as fare_amount.png"
   ]
  },
  {
   "cell_type": "code",
   "execution_count": 33,
   "id": "41f3881c",
   "metadata": {
    "tags": []
   },
   "outputs": [
    {
     "data": {
      "image/png": "[encoded data removed]",
      "text/plain": [
       "<Figure size 1000x800 with 1 Axes>"
      ]
     },
     "metadata": {},
     "output_type": "display_data"
    }
   ],
   "source": [
    "# Plot fare_amount\n",
    "plt.figure(figsize=(10, 8)) #size\n",
    "filtered['trip_distance'].hist(bins=40) #define bins\n",
    "plt.title('Trip Distance Distribution') #distribution title\n",
    "plt.xlabel('Trip Distance') #label x\n",
    "plt.ylabel('Frequency') #label y\n",
    "plt.savefig('trip_distance.png') #save as trip_distance.png"
   ]
  },
  {
   "cell_type": "markdown",
   "id": "2d9082f8",
   "metadata": {},
   "source": [
    "---\n",
    "\n",
    "## Machine Learning with Dask\n",
    "\n",
    "We create a derived field called `trip_duration` which is the difference between `tpep_dropoff_datetime` and `tpep_pickup_datetime` (note that both these fields were read as datetime when the Dask dataframe was initially created from the CSV files) and train a linear regression model to predict it based on `passenger_count`,`trip_distance`,`fare_amount` and `total_amount`. \n",
    "\n",
    "**_Note that the primary objective here is to show how a Dask cluster can be used to train an ML model rather than training the best model possible._**"
   ]
  },
  {
   "cell_type": "code",
   "execution_count": 50,
   "id": "f731fd08-e128-420f-b27d-5232b42816a0",
   "metadata": {
    "tags": []
   },
   "outputs": [
    {
     "data": {
      "text/html": [
       "<script>Jupyter.notebook.kernel.restart()</script>"
      ],
      "text/plain": [
       "<IPython.core.display.HTML object>"
      ]
     },
     "execution_count": 50,
     "metadata": {},
     "output_type": "execute_result"
    }
   ],
   "source": [
    "# restart kernel\n",
    "from IPython.core.display import HTML\n",
    "HTML(\"<script>Jupyter.notebook.kernel.restart()</script>\")"
   ]
  },
  {
   "cell_type": "code",
   "execution_count": 2,
   "id": "1ba15b7f-b83e-4ce9-be19-ffaebb0a2692",
   "metadata": {
    "tags": []
   },
   "outputs": [
    {
     "name": "stderr",
     "output_type": "stream",
     "text": [
      "/opt/conda/lib/python3.10/site-packages/dask/dataframe/_pyarrow_compat.py:17: FutureWarning: Minimal version of pyarrow will soon be increased to 14.0.1. You are using 14.0.0. Please consider upgrading.\n",
      "  warnings.warn(\n"
     ]
    }
   ],
   "source": [
    "import os\n",
    "import dask\n",
    "import s3fs\n",
    "import time\n",
    "import joblib\n",
    "import distributed\n",
    "import numpy as np\n",
    "import pandas as pd\n",
    "import dask.dataframe as dd\n",
    "import matplotlib.pyplot as plt\n",
    "from dask.distributed import Client\n",
    "from dask.distributed import LocalCluster\n",
    "from sklearn.metrics import mean_squared_error\n",
    "from dask.distributed import performance_report\n",
    "from dask_ml.linear_model import LinearRegression\n",
    "from dask_ml.model_selection import train_test_split"
   ]
  },
  {
   "cell_type": "code",
   "execution_count": 3,
   "id": "15df8108-b451-4039-a8eb-6444b92feff9",
   "metadata": {
    "tags": []
   },
   "outputs": [],
   "source": [
    "# enable this client for fargate distributed cluster testing\n",
    "cluster = LocalCluster()\n",
    "client = Client(cluster)"
   ]
  },
  {
   "cell_type": "code",
   "execution_count": 4,
   "id": "89ec8a04-94ea-41a4-b059-c2798ff6c5aa",
   "metadata": {
    "tags": []
   },
   "outputs": [
    {
     "data": {
      "application/vnd.jupyter.widget-view+json": {
       "model_id": "6f92607d74444679a0f9a76c6b80577c",
       "version_major": 2,
       "version_minor": 0
      },
      "text/plain": [
       "Tab(children=(HTML(value='<div class=\"jp-RenderedHTMLCommon jp-RenderedHTML jp-mod-trusted jp-OutputArea-outpu…"
      ]
     },
     "metadata": {},
     "output_type": "display_data"
    }
   ],
   "source": [
    "client.cluster"
   ]
  },
  {
   "cell_type": "code",
   "execution_count": 5,
   "id": "9b338a48",
   "metadata": {
    "tags": []
   },
   "outputs": [],
   "source": [
    "# read the data directly from S3\n",
    "months = \"1*\"\n",
    "df = dd.read_parquet(f's3://nyc-tlc/trip data/yellow_tripdata_2021-{months}.parquet',\n",
    "                 parse_dates=['tpep_pickup_datetime','tpep_dropoff_datetime'])"
   ]
  },
  {
   "cell_type": "code",
   "execution_count": 6,
   "id": "df57e837",
   "metadata": {
    "tags": []
   },
   "outputs": [],
   "source": [
    "df['trip_duration'] = df['tpep_dropoff_datetime'] - df['tpep_pickup_datetime']"
   ]
  },
  {
   "cell_type": "code",
   "execution_count": 7,
   "id": "6f343489",
   "metadata": {
    "tags": []
   },
   "outputs": [
    {
     "name": "stderr",
     "output_type": "stream",
     "text": [
      "/opt/conda/lib/python3.10/site-packages/dask/dataframe/_pyarrow_compat.py:17: FutureWarning: Minimal version of pyarrow will soon be increased to 14.0.1. You are using 14.0.0. Please consider upgrading.\n",
      "  warnings.warn(\n",
      "2023-11-14 19:54:12,433 - distributed.worker.memory - WARNING - Unmanaged memory use is high. This may indicate a memory leak or the memory may not be released to the OS; see https://distributed.dask.org/en/latest/worker-memory.html#memory-not-released-back-to-the-os for more information. -- Unmanaged memory: 2.25 GiB -- Worker memory limit: 3.20 GiB\n"
     ]
    },
    {
     "data": {
      "text/plain": [
       "0   0 days 00:45:39\n",
       "1   0 days 00:24:18\n",
       "2   0 days 00:22:45\n",
       "3   0 days 00:39:02\n",
       "4   0 days 00:22:36\n",
       "Name: trip_duration, dtype: timedelta64[ns]"
      ]
     },
     "execution_count": 7,
     "metadata": {},
     "output_type": "execute_result"
    }
   ],
   "source": [
    "df['trip_duration'].head()"
   ]
  },
  {
   "cell_type": "markdown",
   "id": "67c7a31d",
   "metadata": {},
   "source": [
    "Convert the trip duration to hours."
   ]
  },
  {
   "cell_type": "code",
   "execution_count": 8,
   "id": "66cf061a",
   "metadata": {
    "tags": []
   },
   "outputs": [
    {
     "data": {
      "text/plain": [
       "Dask Series Structure:\n",
       "npartitions=3\n",
       "    float64\n",
       "        ...\n",
       "        ...\n",
       "        ...\n",
       "Name: trip_duration, dtype: float64\n",
       "Dask Name: getitem, 12 graph layers"
      ]
     },
     "execution_count": 8,
     "metadata": {},
     "output_type": "execute_result"
    }
   ],
   "source": [
    "\n",
    "df['trip_duration'] = df['trip_duration']/np.timedelta64(1,'D')\n",
    "df['trip_duration'] = df['trip_duration'] * 24\n",
    "df['trip_duration']"
   ]
  },
  {
   "cell_type": "code",
   "execution_count": 9,
   "id": "18d43eb2",
   "metadata": {
    "tags": []
   },
   "outputs": [
    {
     "data": {
      "text/plain": [
       "0    0.760833\n",
       "1    0.405000\n",
       "2    0.379167\n",
       "3    0.650556\n",
       "4    0.376667\n",
       "Name: trip_duration, dtype: float64"
      ]
     },
     "execution_count": 9,
     "metadata": {},
     "output_type": "execute_result"
    }
   ],
   "source": [
    "df['trip_duration'].head()"
   ]
  },
  {
   "cell_type": "code",
   "execution_count": 10,
   "id": "bc9f43ab",
   "metadata": {
    "tags": []
   },
   "outputs": [
    {
     "name": "stdout",
     "output_type": "stream",
     "text": [
      "CPU times: user 401 ms, sys: 32.5 ms, total: 434 ms\n",
      "Wall time: 3.27 s\n"
     ]
    },
    {
     "data": {
      "text/html": [
       "<div>\n",
       "<style scoped>\n",
       "    .dataframe tbody tr th:only-of-type {\n",
       "        vertical-align: middle;\n",
       "    }\n",
       "\n",
       "    .dataframe tbody tr th {\n",
       "        vertical-align: top;\n",
       "    }\n",
       "\n",
       "    .dataframe thead th {\n",
       "        text-align: right;\n",
       "    }\n",
       "</style>\n",
       "<table border=\"1\" class=\"dataframe\">\n",
       "  <thead>\n",
       "    <tr style=\"text-align: right;\">\n",
       "      <th></th>\n",
       "      <th>VendorID</th>\n",
       "      <th>tpep_pickup_datetime</th>\n",
       "      <th>tpep_dropoff_datetime</th>\n",
       "      <th>passenger_count</th>\n",
       "      <th>trip_distance</th>\n",
       "      <th>RatecodeID</th>\n",
       "      <th>store_and_fwd_flag</th>\n",
       "      <th>PULocationID</th>\n",
       "      <th>DOLocationID</th>\n",
       "      <th>payment_type</th>\n",
       "      <th>fare_amount</th>\n",
       "      <th>extra</th>\n",
       "      <th>mta_tax</th>\n",
       "      <th>tip_amount</th>\n",
       "      <th>tolls_amount</th>\n",
       "      <th>improvement_surcharge</th>\n",
       "      <th>total_amount</th>\n",
       "      <th>congestion_surcharge</th>\n",
       "      <th>airport_fee</th>\n",
       "      <th>trip_duration</th>\n",
       "    </tr>\n",
       "  </thead>\n",
       "  <tbody>\n",
       "    <tr>\n",
       "      <th>0</th>\n",
       "      <td>1</td>\n",
       "      <td>2021-10-01 00:25:56</td>\n",
       "      <td>2021-10-01 01:11:35</td>\n",
       "      <td>1.0</td>\n",
       "      <td>7.40</td>\n",
       "      <td>1.0</td>\n",
       "      <td>Y</td>\n",
       "      <td>140</td>\n",
       "      <td>36</td>\n",
       "      <td>1</td>\n",
       "      <td>33.0</td>\n",
       "      <td>3.0</td>\n",
       "      <td>0.5</td>\n",
       "      <td>4.00</td>\n",
       "      <td>0.0</td>\n",
       "      <td>0.3</td>\n",
       "      <td>40.80</td>\n",
       "      <td>2.5</td>\n",
       "      <td>0.0</td>\n",
       "      <td>0.760833</td>\n",
       "    </tr>\n",
       "    <tr>\n",
       "      <th>1</th>\n",
       "      <td>1</td>\n",
       "      <td>2021-10-01 00:17:13</td>\n",
       "      <td>2021-10-01 00:41:31</td>\n",
       "      <td>1.0</td>\n",
       "      <td>14.10</td>\n",
       "      <td>1.0</td>\n",
       "      <td>N</td>\n",
       "      <td>209</td>\n",
       "      <td>94</td>\n",
       "      <td>2</td>\n",
       "      <td>39.0</td>\n",
       "      <td>3.0</td>\n",
       "      <td>0.5</td>\n",
       "      <td>0.00</td>\n",
       "      <td>0.0</td>\n",
       "      <td>0.3</td>\n",
       "      <td>42.80</td>\n",
       "      <td>2.5</td>\n",
       "      <td>0.0</td>\n",
       "      <td>0.405000</td>\n",
       "    </tr>\n",
       "    <tr>\n",
       "      <th>2</th>\n",
       "      <td>2</td>\n",
       "      <td>2021-10-01 00:25:22</td>\n",
       "      <td>2021-10-01 00:48:07</td>\n",
       "      <td>2.0</td>\n",
       "      <td>5.64</td>\n",
       "      <td>1.0</td>\n",
       "      <td>N</td>\n",
       "      <td>238</td>\n",
       "      <td>107</td>\n",
       "      <td>1</td>\n",
       "      <td>20.0</td>\n",
       "      <td>0.5</td>\n",
       "      <td>0.5</td>\n",
       "      <td>4.76</td>\n",
       "      <td>0.0</td>\n",
       "      <td>0.3</td>\n",
       "      <td>28.56</td>\n",
       "      <td>2.5</td>\n",
       "      <td>0.0</td>\n",
       "      <td>0.379167</td>\n",
       "    </tr>\n",
       "    <tr>\n",
       "      <th>3</th>\n",
       "      <td>1</td>\n",
       "      <td>2021-10-01 00:17:28</td>\n",
       "      <td>2021-10-01 00:56:30</td>\n",
       "      <td>0.0</td>\n",
       "      <td>5.50</td>\n",
       "      <td>1.0</td>\n",
       "      <td>N</td>\n",
       "      <td>48</td>\n",
       "      <td>179</td>\n",
       "      <td>1</td>\n",
       "      <td>27.5</td>\n",
       "      <td>3.0</td>\n",
       "      <td>0.5</td>\n",
       "      <td>3.00</td>\n",
       "      <td>0.0</td>\n",
       "      <td>0.3</td>\n",
       "      <td>34.30</td>\n",
       "      <td>2.5</td>\n",
       "      <td>0.0</td>\n",
       "      <td>0.650556</td>\n",
       "    </tr>\n",
       "    <tr>\n",
       "      <th>4</th>\n",
       "      <td>1</td>\n",
       "      <td>2021-10-01 00:09:30</td>\n",
       "      <td>2021-10-01 00:32:06</td>\n",
       "      <td>1.0</td>\n",
       "      <td>3.70</td>\n",
       "      <td>1.0</td>\n",
       "      <td>N</td>\n",
       "      <td>79</td>\n",
       "      <td>25</td>\n",
       "      <td>2</td>\n",
       "      <td>17.5</td>\n",
       "      <td>3.0</td>\n",
       "      <td>0.5</td>\n",
       "      <td>0.00</td>\n",
       "      <td>0.0</td>\n",
       "      <td>0.3</td>\n",
       "      <td>21.30</td>\n",
       "      <td>2.5</td>\n",
       "      <td>0.0</td>\n",
       "      <td>0.376667</td>\n",
       "    </tr>\n",
       "  </tbody>\n",
       "</table>\n",
       "</div>"
      ],
      "text/plain": [
       "   VendorID tpep_pickup_datetime tpep_dropoff_datetime  passenger_count  \\\n",
       "0         1  2021-10-01 00:25:56   2021-10-01 01:11:35              1.0   \n",
       "1         1  2021-10-01 00:17:13   2021-10-01 00:41:31              1.0   \n",
       "2         2  2021-10-01 00:25:22   2021-10-01 00:48:07              2.0   \n",
       "3         1  2021-10-01 00:17:28   2021-10-01 00:56:30              0.0   \n",
       "4         1  2021-10-01 00:09:30   2021-10-01 00:32:06              1.0   \n",
       "\n",
       "   trip_distance  RatecodeID store_and_fwd_flag  PULocationID  DOLocationID  \\\n",
       "0           7.40         1.0                  Y           140            36   \n",
       "1          14.10         1.0                  N           209            94   \n",
       "2           5.64         1.0                  N           238           107   \n",
       "3           5.50         1.0                  N            48           179   \n",
       "4           3.70         1.0                  N            79            25   \n",
       "\n",
       "   payment_type  fare_amount  extra  mta_tax  tip_amount  tolls_amount  \\\n",
       "0             1         33.0    3.0      0.5        4.00           0.0   \n",
       "1             2         39.0    3.0      0.5        0.00           0.0   \n",
       "2             1         20.0    0.5      0.5        4.76           0.0   \n",
       "3             1         27.5    3.0      0.5        3.00           0.0   \n",
       "4             2         17.5    3.0      0.5        0.00           0.0   \n",
       "\n",
       "   improvement_surcharge  total_amount  congestion_surcharge  airport_fee  \\\n",
       "0                    0.3         40.80                   2.5          0.0   \n",
       "1                    0.3         42.80                   2.5          0.0   \n",
       "2                    0.3         28.56                   2.5          0.0   \n",
       "3                    0.3         34.30                   2.5          0.0   \n",
       "4                    0.3         21.30                   2.5          0.0   \n",
       "\n",
       "   trip_duration  \n",
       "0       0.760833  \n",
       "1       0.405000  \n",
       "2       0.379167  \n",
       "3       0.650556  \n",
       "4       0.376667  "
      ]
     },
     "execution_count": 10,
     "metadata": {},
     "output_type": "execute_result"
    }
   ],
   "source": [
    "%%time\n",
    "df.head()"
   ]
  },
  {
   "cell_type": "markdown",
   "id": "01149fca",
   "metadata": {},
   "source": [
    "Replace all NAs with 0"
   ]
  },
  {
   "cell_type": "code",
   "execution_count": 11,
   "id": "4de0a440",
   "metadata": {
    "tags": []
   },
   "outputs": [],
   "source": [
    "df = df.fillna(value=0)"
   ]
  },
  {
   "cell_type": "code",
   "execution_count": 12,
   "id": "9b4a3d2f",
   "metadata": {
    "tags": []
   },
   "outputs": [
    {
     "data": {
      "text/plain": [
       "(Delayed('int-8c0834ce-0573-40c0-906f-ac194ce4f784'), 20)"
      ]
     },
     "execution_count": 12,
     "metadata": {},
     "output_type": "execute_result"
    }
   ],
   "source": [
    "df.shape"
   ]
  },
  {
   "cell_type": "code",
   "execution_count": 13,
   "id": "5ffba029",
   "metadata": {
    "tags": []
   },
   "outputs": [
    {
     "name": "stderr",
     "output_type": "stream",
     "text": [
      "/opt/conda/lib/python3.10/site-packages/dask/dataframe/_pyarrow_compat.py:17: FutureWarning: Minimal version of pyarrow will soon be increased to 14.0.1. You are using 14.0.0. Please consider upgrading.\n",
      "  warnings.warn(\n",
      "2023-11-14 19:54:29,102 - distributed.worker.memory - WARNING - Unmanaged memory use is high. This may indicate a memory leak or the memory may not be released to the OS; see https://distributed.dask.org/en/latest/worker-memory.html#memory-not-released-back-to-the-os for more information. -- Unmanaged memory: 2.28 GiB -- Worker memory limit: 3.20 GiB\n"
     ]
    },
    {
     "data": {
      "text/plain": [
       "10150822"
      ]
     },
     "execution_count": 13,
     "metadata": {},
     "output_type": "execute_result"
    }
   ],
   "source": [
    "len(df)"
   ]
  },
  {
   "cell_type": "markdown",
   "id": "e241f871",
   "metadata": {},
   "source": [
    "**_The next would be to one-hot encode the categroical variables but we run into Dask related errors which so for now we will skip the categorical variables._**"
   ]
  },
  {
   "cell_type": "markdown",
   "id": "c6c8b6d2",
   "metadata": {},
   "source": [
    "Setup the features and the target variable and then do a train test split. We get the data we need as a pandas dataframe, this should not be needed we should be able to train with the lazy loaded dataframe. We run into errors with the tasks not finding `_sqrt` function, most likely because of using an older version of one of the packages. Updating the packages would mean using a newer container for the Dask scheduler and container, I tried that but that created other problems and for the purpose of this notebook I decided to stick to getting the data locally into this notebook and then relying on Dask to distribute it again, know that this is not how it will work in production."
   ]
  },
  {
   "cell_type": "code",
   "execution_count": 14,
   "id": "2c03cd12",
   "metadata": {
    "tags": []
   },
   "outputs": [
    {
     "name": "stderr",
     "output_type": "stream",
     "text": [
      "2023-11-14 19:56:16,075 - distributed.worker.memory - WARNING - Unmanaged memory use is high. This may indicate a memory leak or the memory may not be released to the OS; see https://distributed.dask.org/en/latest/worker-memory.html#memory-not-released-back-to-the-os for more information. -- Unmanaged memory: 2.27 GiB -- Worker memory limit: 3.20 GiB\n",
      "2023-11-14 19:56:16,315 - distributed.worker.memory - WARNING - Unmanaged memory use is high. This may indicate a memory leak or the memory may not be released to the OS; see https://distributed.dask.org/en/latest/worker-memory.html#memory-not-released-back-to-the-os for more information. -- Unmanaged memory: 2.25 GiB -- Worker memory limit: 3.20 GiB\n",
      "2023-11-14 19:56:20,802 - distributed.utils_perf - WARNING - full garbage collections took 17% CPU time recently (threshold: 10%)\n",
      "2023-11-14 19:56:22,117 - distributed.utils_perf - WARNING - full garbage collections took 18% CPU time recently (threshold: 10%)\n",
      "2023-11-14 19:56:23,736 - distributed.utils_perf - WARNING - full garbage collections took 21% CPU time recently (threshold: 10%)\n",
      "2023-11-14 19:56:25,677 - distributed.utils_perf - WARNING - full garbage collections took 22% CPU time recently (threshold: 10%)\n",
      "2023-11-14 19:56:27,963 - distributed.utils_perf - WARNING - full garbage collections took 22% CPU time recently (threshold: 10%)\n",
      "2023-11-14 19:56:32,011 - distributed.utils_perf - WARNING - full garbage collections took 23% CPU time recently (threshold: 10%)\n",
      "2023-11-14 19:56:51,494 - distributed.utils_perf - WARNING - full garbage collections took 18% CPU time recently (threshold: 10%)\n",
      "2023-11-14 19:56:52,155 - distributed.utils_perf - WARNING - full garbage collections took 18% CPU time recently (threshold: 10%)\n",
      "2023-11-14 19:56:52,926 - distributed.utils_perf - WARNING - full garbage collections took 18% CPU time recently (threshold: 10%)\n",
      "2023-11-14 19:56:53,979 - distributed.utils_perf - WARNING - full garbage collections took 18% CPU time recently (threshold: 10%)\n",
      "2023-11-14 19:56:55,152 - distributed.utils_perf - WARNING - full garbage collections took 18% CPU time recently (threshold: 10%)\n",
      "2023-11-14 19:56:56,968 - distributed.utils_perf - WARNING - full garbage collections took 18% CPU time recently (threshold: 10%)\n",
      "2023-11-14 19:56:59,106 - distributed.utils_perf - WARNING - full garbage collections took 19% CPU time recently (threshold: 10%)\n"
     ]
    }
   ],
   "source": [
    "#x = df[['VendorID','RatecodeID','PULocationID','DOLocationID','passenger_count','trip_distance','fare_amount','total_amount']]\n",
    "x = df[['passenger_count','trip_distance','fare_amount','total_amount']].compute()"
   ]
  },
  {
   "cell_type": "code",
   "execution_count": 15,
   "id": "b5f54f7a",
   "metadata": {
    "tags": []
   },
   "outputs": [
    {
     "name": "stderr",
     "output_type": "stream",
     "text": [
      "2023-11-14 19:57:13,477 - distributed.worker.memory - WARNING - Unmanaged memory use is high. This may indicate a memory leak or the memory may not be released to the OS; see https://distributed.dask.org/en/latest/worker-memory.html#memory-not-released-back-to-the-os for more information. -- Unmanaged memory: 2.27 GiB -- Worker memory limit: 3.20 GiB\n",
      "2023-11-14 19:57:14,402 - distributed.worker.memory - WARNING - Unmanaged memory use is high. This may indicate a memory leak or the memory may not be released to the OS; see https://distributed.dask.org/en/latest/worker-memory.html#memory-not-released-back-to-the-os for more information. -- Unmanaged memory: 2.36 GiB -- Worker memory limit: 3.20 GiB\n",
      "2023-11-14 19:57:16,375 - distributed.utils_perf - WARNING - full garbage collections took 16% CPU time recently (threshold: 10%)\n",
      "2023-11-14 19:57:17,080 - distributed.utils_perf - WARNING - full garbage collections took 16% CPU time recently (threshold: 10%)\n",
      "2023-11-14 19:57:17,866 - distributed.utils_perf - WARNING - full garbage collections took 15% CPU time recently (threshold: 10%)\n",
      "2023-11-14 19:57:17,875 - distributed.utils_perf - WARNING - full garbage collections took 18% CPU time recently (threshold: 10%)\n",
      "2023-11-14 19:57:18,811 - distributed.utils_perf - WARNING - full garbage collections took 19% CPU time recently (threshold: 10%)\n",
      "2023-11-14 19:57:19,155 - distributed.utils_perf - WARNING - full garbage collections took 19% CPU time recently (threshold: 10%)\n",
      "2023-11-14 19:57:19,936 - distributed.utils_perf - WARNING - full garbage collections took 20% CPU time recently (threshold: 10%)\n",
      "2023-11-14 19:57:20,839 - distributed.utils_perf - WARNING - full garbage collections took 19% CPU time recently (threshold: 10%)\n",
      "2023-11-14 19:57:21,419 - distributed.utils_perf - WARNING - full garbage collections took 20% CPU time recently (threshold: 10%)\n",
      "2023-11-14 19:57:22,777 - distributed.utils_perf - WARNING - full garbage collections took 19% CPU time recently (threshold: 10%)\n",
      "2023-11-14 19:57:23,266 - distributed.utils_perf - WARNING - full garbage collections took 20% CPU time recently (threshold: 10%)\n",
      "2023-11-14 19:57:25,231 - distributed.utils_perf - WARNING - full garbage collections took 20% CPU time recently (threshold: 10%)\n",
      "2023-11-14 19:57:25,420 - distributed.utils_perf - WARNING - full garbage collections took 20% CPU time recently (threshold: 10%)\n",
      "2023-11-14 19:57:27,820 - distributed.utils_perf - WARNING - full garbage collections took 21% CPU time recently (threshold: 10%)\n",
      "2023-11-14 19:57:28,496 - distributed.utils_perf - WARNING - full garbage collections took 20% CPU time recently (threshold: 10%)\n",
      "2023-11-14 19:57:48,658 - distributed.utils_perf - WARNING - full garbage collections took 17% CPU time recently (threshold: 10%)\n",
      "2023-11-14 19:57:49,319 - distributed.utils_perf - WARNING - full garbage collections took 17% CPU time recently (threshold: 10%)\n",
      "2023-11-14 19:57:50,127 - distributed.utils_perf - WARNING - full garbage collections took 17% CPU time recently (threshold: 10%)\n",
      "2023-11-14 19:57:51,108 - distributed.utils_perf - WARNING - full garbage collections took 17% CPU time recently (threshold: 10%)\n",
      "2023-11-14 19:57:52,300 - distributed.utils_perf - WARNING - full garbage collections took 17% CPU time recently (threshold: 10%)\n",
      "2023-11-14 19:57:53,781 - distributed.utils_perf - WARNING - full garbage collections took 17% CPU time recently (threshold: 10%)\n",
      "2023-11-14 19:57:55,653 - distributed.utils_perf - WARNING - full garbage collections took 18% CPU time recently (threshold: 10%)\n"
     ]
    }
   ],
   "source": [
    "y = df['trip_duration'].compute()"
   ]
  },
  {
   "cell_type": "code",
   "execution_count": 22,
   "id": "2ea462f8",
   "metadata": {
    "tags": []
   },
   "outputs": [],
   "source": [
    "X_train, X_test, y_train, y_test = train_test_split(x, y, random_state=1, shuffle=True)"
   ]
  },
  {
   "cell_type": "code",
   "execution_count": 23,
   "id": "3e839bba",
   "metadata": {
    "tags": []
   },
   "outputs": [
    {
     "data": {
      "text/plain": [
       "(9135739, 1015083, 9135739, 1015083)"
      ]
     },
     "execution_count": 23,
     "metadata": {},
     "output_type": "execute_result"
    }
   ],
   "source": [
    "len(X_train), len(X_test), len(y_train), len(y_test)"
   ]
  },
  {
   "cell_type": "markdown",
   "id": "94518f35",
   "metadata": {},
   "source": [
    "The Dask API does not support dataframe so extract the array as `values`."
   ]
  },
  {
   "cell_type": "code",
   "execution_count": 24,
   "id": "255b2616",
   "metadata": {
    "tags": []
   },
   "outputs": [],
   "source": [
    "training_x = X_train.values\n",
    "training_y = y_train.values"
   ]
  },
  {
   "cell_type": "code",
   "execution_count": 25,
   "id": "42a1cc2b",
   "metadata": {
    "tags": []
   },
   "outputs": [
    {
     "data": {
      "text/plain": [
       "array([[ 1.  ,  1.74,  8.5 , 13.57],\n",
       "       [ 1.  , 10.91, 31.5 , 56.03],\n",
       "       [ 0.  ,  0.48, 11.45, 15.  ],\n",
       "       ...,\n",
       "       [ 3.  ,  2.74, 12.  , 18.2 ],\n",
       "       [ 1.  ,  0.58,  6.5 , 12.96],\n",
       "       [ 1.  ,  3.24, 17.  , 24.36]])"
      ]
     },
     "execution_count": 25,
     "metadata": {},
     "output_type": "execute_result"
    }
   ],
   "source": [
    "training_x"
   ]
  },
  {
   "cell_type": "code",
   "execution_count": 26,
   "id": "fb8421c7",
   "metadata": {
    "tags": []
   },
   "outputs": [],
   "source": [
    "testing_x = X_test.values\n",
    "testing_y = y_test.values"
   ]
  },
  {
   "cell_type": "code",
   "execution_count": 27,
   "id": "4d24d90e",
   "metadata": {
    "tags": []
   },
   "outputs": [],
   "source": [
    "def rmse(preds, actuals):\n",
    "    error = mean_squared_error(actuals, preds)\n",
    "    rmse = np.sqrt(error)\n",
    "    return rmse\n"
   ]
  },
  {
   "cell_type": "markdown",
   "id": "46cb6668",
   "metadata": {},
   "source": [
    "## [TASK 3] Train the linear regression model on the Dask cluster.\n",
    "\n",
    "Train the linear regression model and save the performance report in a file called `dask-report-lr.html`."
   ]
  },
  {
   "cell_type": "code",
   "execution_count": 29,
   "id": "cf32c2e9",
   "metadata": {
    "tags": []
   },
   "outputs": [
    {
     "name": "stderr",
     "output_type": "stream",
     "text": [
      "/opt/conda/lib/python3.10/site-packages/distributed/client.py:3163: UserWarning: Sending large graph of size 418.20 MiB.\n",
      "This may cause some slowdown.\n",
      "Consider scattering data ahead of time and using futures.\n",
      "  warnings.warn(\n"
     ]
    }
   ],
   "source": [
    "with performance_report(filename=\"dask-report-lr.html\"):\n",
    "    # your linear regression code goes here\n",
    "    model = LinearRegression()\n",
    "    model.fit(training_x, training_y)"
   ]
  },
  {
   "cell_type": "markdown",
   "id": "a21fa858",
   "metadata": {},
   "source": [
    "Prediction and RMSE."
   ]
  },
  {
   "cell_type": "code",
   "execution_count": 30,
   "id": "83c889be",
   "metadata": {
    "tags": []
   },
   "outputs": [
    {
     "data": {
      "text/plain": [
       "array([0.22150827, 0.18413431, 0.24043522, ..., 0.28402319, 0.21525681,\n",
       "       0.17173759])"
      ]
     },
     "execution_count": 30,
     "metadata": {},
     "output_type": "execute_result"
    }
   ],
   "source": [
    "preds = model.predict(testing_x)\n",
    "preds"
   ]
  },
  {
   "cell_type": "code",
   "execution_count": 31,
   "id": "18954217",
   "metadata": {
    "tags": []
   },
   "outputs": [
    {
     "data": {
      "text/plain": [
       "array([0.17027778, 0.09      , 0.15944444, ..., 0.33027778, 0.13472222,\n",
       "       0.07722222])"
      ]
     },
     "execution_count": 31,
     "metadata": {},
     "output_type": "execute_result"
    }
   ],
   "source": [
    "testing_y"
   ]
  },
  {
   "cell_type": "code",
   "execution_count": 32,
   "id": "2ef5674a",
   "metadata": {
    "tags": []
   },
   "outputs": [
    {
     "data": {
      "text/plain": [
       "1.0547255641962696"
      ]
     },
     "execution_count": 32,
     "metadata": {},
     "output_type": "execute_result"
    }
   ],
   "source": [
    "rmse_val = rmse(preds, testing_y)\n",
    "rmse_val"
   ]
  },
  {
   "cell_type": "markdown",
   "id": "9ae3a30d",
   "metadata": {},
   "source": [
    "### [Task 4] Save RMSE to a local file\n",
    "\n",
    "The filename should be `rmse.txt`. the contents of the file should be (as an example) `rmse=3.456`."
   ]
  },
  {
   "cell_type": "code",
   "execution_count": 33,
   "id": "10204d8c",
   "metadata": {
    "tags": []
   },
   "outputs": [],
   "source": [
    "path = 'rmse.txt'\n",
    "\n",
    "# Write the RMSE value to a file\n",
    "with open(path, 'w') as file:\n",
    "    file.write(f'rmse={rmse_val}')"
   ]
  },
  {
   "cell_type": "code",
   "execution_count": null,
   "id": "9edd0931-e824-43bd-a34b-9a9fd4deef95",
   "metadata": {},
   "outputs": [],
   "source": []
  }
 ],
 "metadata": {
  "availableInstances": [
   {
    "_defaultOrder": 0,
    "_isFastLaunch": true,
    "category": "General purpose",
    "gpuNum": 0,
    "hideHardwareSpecs": false,
    "memoryGiB": 4,
    "name": "ml.t3.medium",
    "vcpuNum": 2
   },
   {
    "_defaultOrder": 1,
    "_isFastLaunch": false,
    "category": "General purpose",
    "gpuNum": 0,
    "hideHardwareSpecs": false,
    "memoryGiB": 8,
    "name": "ml.t3.large",
    "vcpuNum": 2
   },
   {
    "_defaultOrder": 2,
    "_isFastLaunch": false,
    "category": "General purpose",
    "gpuNum": 0,
    "hideHardwareSpecs": false,
    "memoryGiB": 16,
    "name": "ml.t3.xlarge",
    "vcpuNum": 4
   },
   {
    "_defaultOrder": 3,
    "_isFastLaunch": false,
    "category": "General purpose",
    "gpuNum": 0,
    "hideHardwareSpecs": false,
    "memoryGiB": 32,
    "name": "ml.t3.2xlarge",
    "vcpuNum": 8
   },
   {
    "_defaultOrder": 4,
    "_isFastLaunch": true,
    "category": "General purpose",
    "gpuNum": 0,
    "hideHardwareSpecs": false,
    "memoryGiB": 8,
    "name": "ml.m5.large",
    "vcpuNum": 2
   },
   {
    "_defaultOrder": 5,
    "_isFastLaunch": false,
    "category": "General purpose",
    "gpuNum": 0,
    "hideHardwareSpecs": false,
    "memoryGiB": 16,
    "name": "ml.m5.xlarge",
    "vcpuNum": 4
   },
   {
    "_defaultOrder": 6,
    "_isFastLaunch": false,
    "category": "General purpose",
    "gpuNum": 0,
    "hideHardwareSpecs": false,
    "memoryGiB": 32,
    "name": "ml.m5.2xlarge",
    "vcpuNum": 8
   },
   {
    "_defaultOrder": 7,
    "_isFastLaunch": false,
    "category": "General purpose",
    "gpuNum": 0,
    "hideHardwareSpecs": false,
    "memoryGiB": 64,
    "name": "ml.m5.4xlarge",
    "vcpuNum": 16
   },
   {
    "_defaultOrder": 8,
    "_isFastLaunch": false,
    "category": "General purpose",
    "gpuNum": 0,
    "hideHardwareSpecs": false,
    "memoryGiB": 128,
    "name": "ml.m5.8xlarge",
    "vcpuNum": 32
   },
   {
    "_defaultOrder": 9,
    "_isFastLaunch": false,
    "category": "General purpose",
    "gpuNum": 0,
    "hideHardwareSpecs": false,
    "memoryGiB": 192,
    "name": "ml.m5.12xlarge",
    "vcpuNum": 48
   },
   {
    "_defaultOrder": 10,
    "_isFastLaunch": false,
    "category": "General purpose",
    "gpuNum": 0,
    "hideHardwareSpecs": false,
    "memoryGiB": 256,
    "name": "ml.m5.16xlarge",
    "vcpuNum": 64
   },
   {
    "_defaultOrder": 11,
    "_isFastLaunch": false,
    "category": "General purpose",
    "gpuNum": 0,
    "hideHardwareSpecs": false,
    "memoryGiB": 384,
    "name": "ml.m5.24xlarge",
    "vcpuNum": 96
   },
   {
    "_defaultOrder": 12,
    "_isFastLaunch": false,
    "category": "General purpose",
    "gpuNum": 0,
    "hideHardwareSpecs": false,
    "memoryGiB": 8,
    "name": "ml.m5d.large",
    "vcpuNum": 2
   },
   {
    "_defaultOrder": 13,
    "_isFastLaunch": false,
    "category": "General purpose",
    "gpuNum": 0,
    "hideHardwareSpecs": false,
    "memoryGiB": 16,
    "name": "ml.m5d.xlarge",
    "vcpuNum": 4
   },
   {
    "_defaultOrder": 14,
    "_isFastLaunch": false,
    "category": "General purpose",
    "gpuNum": 0,
    "hideHardwareSpecs": false,
    "memoryGiB": 32,
    "name": "ml.m5d.2xlarge",
    "vcpuNum": 8
   },
   {
    "_defaultOrder": 15,
    "_isFastLaunch": false,
    "category": "General purpose",
    "gpuNum": 0,
    "hideHardwareSpecs": false,
    "memoryGiB": 64,
    "name": "ml.m5d.4xlarge",
    "vcpuNum": 16
   },
   {
    "_defaultOrder": 16,
    "_isFastLaunch": false,
    "category": "General purpose",
    "gpuNum": 0,
    "hideHardwareSpecs": false,
    "memoryGiB": 128,
    "name": "ml.m5d.8xlarge",
    "vcpuNum": 32
   },
   {
    "_defaultOrder": 17,
    "_isFastLaunch": false,
    "category": "General purpose",
    "gpuNum": 0,
    "hideHardwareSpecs": false,
    "memoryGiB": 192,
    "name": "ml.m5d.12xlarge",
    "vcpuNum": 48
   },
   {
    "_defaultOrder": 18,
    "_isFastLaunch": false,
    "category": "General purpose",
    "gpuNum": 0,
    "hideHardwareSpecs": false,
    "memoryGiB": 256,
    "name": "ml.m5d.16xlarge",
    "vcpuNum": 64
   },
   {
    "_defaultOrder": 19,
    "_isFastLaunch": false,
    "category": "General purpose",
    "gpuNum": 0,
    "hideHardwareSpecs": false,
    "memoryGiB": 384,
    "name": "ml.m5d.24xlarge",
    "vcpuNum": 96
   },
   {
    "_defaultOrder": 20,
    "_isFastLaunch": false,
    "category": "General purpose",
    "gpuNum": 0,
    "hideHardwareSpecs": true,
    "memoryGiB": 0,
    "name": "ml.geospatial.interactive",
    "supportedImageNames": [
     "sagemaker-geospatial-v1-0"
    ],
    "vcpuNum": 0
   },
   {
    "_defaultOrder": 21,
    "_isFastLaunch": true,
    "category": "Compute optimized",
    "gpuNum": 0,
    "hideHardwareSpecs": false,
    "memoryGiB": 4,
    "name": "ml.c5.large",
    "vcpuNum": 2
   },
   {
    "_defaultOrder": 22,
    "_isFastLaunch": false,
    "category": "Compute optimized",
    "gpuNum": 0,
    "hideHardwareSpecs": false,
    "memoryGiB": 8,
    "name": "ml.c5.xlarge",
    "vcpuNum": 4
   },
   {
    "_defaultOrder": 23,
    "_isFastLaunch": false,
    "category": "Compute optimized",
    "gpuNum": 0,
    "hideHardwareSpecs": false,
    "memoryGiB": 16,
    "name": "ml.c5.2xlarge",
    "vcpuNum": 8
   },
   {
    "_defaultOrder": 24,
    "_isFastLaunch": false,
    "category": "Compute optimized",
    "gpuNum": 0,
    "hideHardwareSpecs": false,
    "memoryGiB": 32,
    "name": "ml.c5.4xlarge",
    "vcpuNum": 16
   },
   {
    "_defaultOrder": 25,
    "_isFastLaunch": false,
    "category": "Compute optimized",
    "gpuNum": 0,
    "hideHardwareSpecs": false,
    "memoryGiB": 72,
    "name": "ml.c5.9xlarge",
    "vcpuNum": 36
   },
   {
    "_defaultOrder": 26,
    "_isFastLaunch": false,
    "category": "Compute optimized",
    "gpuNum": 0,
    "hideHardwareSpecs": false,
    "memoryGiB": 96,
    "name": "ml.c5.12xlarge",
    "vcpuNum": 48
   },
   {
    "_defaultOrder": 27,
    "_isFastLaunch": false,
    "category": "Compute optimized",
    "gpuNum": 0,
    "hideHardwareSpecs": false,
    "memoryGiB": 144,
    "name": "ml.c5.18xlarge",
    "vcpuNum": 72
   },
   {
    "_defaultOrder": 28,
    "_isFastLaunch": false,
    "category": "Compute optimized",
    "gpuNum": 0,
    "hideHardwareSpecs": false,
    "memoryGiB": 192,
    "name": "ml.c5.24xlarge",
    "vcpuNum": 96
   },
   {
    "_defaultOrder": 29,
    "_isFastLaunch": true,
    "category": "Accelerated computing",
    "gpuNum": 1,
    "hideHardwareSpecs": false,
    "memoryGiB": 16,
    "name": "ml.g4dn.xlarge",
    "vcpuNum": 4
   },
   {
    "_defaultOrder": 30,
    "_isFastLaunch": false,
    "category": "Accelerated computing",
    "gpuNum": 1,
    "hideHardwareSpecs": false,
    "memoryGiB": 32,
    "name": "ml.g4dn.2xlarge",
    "vcpuNum": 8
   },
   {
    "_defaultOrder": 31,
    "_isFastLaunch": false,
    "category": "Accelerated computing",
    "gpuNum": 1,
    "hideHardwareSpecs": false,
    "memoryGiB": 64,
    "name": "ml.g4dn.4xlarge",
    "vcpuNum": 16
   },
   {
    "_defaultOrder": 32,
    "_isFastLaunch": false,
    "category": "Accelerated computing",
    "gpuNum": 1,
    "hideHardwareSpecs": false,
    "memoryGiB": 128,
    "name": "ml.g4dn.8xlarge",
    "vcpuNum": 32
   },
   {
    "_defaultOrder": 33,
    "_isFastLaunch": false,
    "category": "Accelerated computing",
    "gpuNum": 4,
    "hideHardwareSpecs": false,
    "memoryGiB": 192,
    "name": "ml.g4dn.12xlarge",
    "vcpuNum": 48
   },
   {
    "_defaultOrder": 34,
    "_isFastLaunch": false,
    "category": "Accelerated computing",
    "gpuNum": 1,
    "hideHardwareSpecs": false,
    "memoryGiB": 256,
    "name": "ml.g4dn.16xlarge",
    "vcpuNum": 64
   },
   {
    "_defaultOrder": 35,
    "_isFastLaunch": false,
    "category": "Accelerated computing",
    "gpuNum": 1,
    "hideHardwareSpecs": false,
    "memoryGiB": 61,
    "name": "ml.p3.2xlarge",
    "vcpuNum": 8
   },
   {
    "_defaultOrder": 36,
    "_isFastLaunch": false,
    "category": "Accelerated computing",
    "gpuNum": 4,
    "hideHardwareSpecs": false,
    "memoryGiB": 244,
    "name": "ml.p3.8xlarge",
    "vcpuNum": 32
   },
   {
    "_defaultOrder": 37,
    "_isFastLaunch": false,
    "category": "Accelerated computing",
    "gpuNum": 8,
    "hideHardwareSpecs": false,
    "memoryGiB": 488,
    "name": "ml.p3.16xlarge",
    "vcpuNum": 64
   },
   {
    "_defaultOrder": 38,
    "_isFastLaunch": false,
    "category": "Accelerated computing",
    "gpuNum": 8,
    "hideHardwareSpecs": false,
    "memoryGiB": 768,
    "name": "ml.p3dn.24xlarge",
    "vcpuNum": 96
   },
   {
    "_defaultOrder": 39,
    "_isFastLaunch": false,
    "category": "Memory Optimized",
    "gpuNum": 0,
    "hideHardwareSpecs": false,
    "memoryGiB": 16,
    "name": "ml.r5.large",
    "vcpuNum": 2
   },
   {
    "_defaultOrder": 40,
    "_isFastLaunch": false,
    "category": "Memory Optimized",
    "gpuNum": 0,
    "hideHardwareSpecs": false,
    "memoryGiB": 32,
    "name": "ml.r5.xlarge",
    "vcpuNum": 4
   },
   {
    "_defaultOrder": 41,
    "_isFastLaunch": false,
    "category": "Memory Optimized",
    "gpuNum": 0,
    "hideHardwareSpecs": false,
    "memoryGiB": 64,
    "name": "ml.r5.2xlarge",
    "vcpuNum": 8
   },
   {
    "_defaultOrder": 42,
    "_isFastLaunch": false,
    "category": "Memory Optimized",
    "gpuNum": 0,
    "hideHardwareSpecs": false,
    "memoryGiB": 128,
    "name": "ml.r5.4xlarge",
    "vcpuNum": 16
   },
   {
    "_defaultOrder": 43,
    "_isFastLaunch": false,
    "category": "Memory Optimized",
    "gpuNum": 0,
    "hideHardwareSpecs": false,
    "memoryGiB": 256,
    "name": "ml.r5.8xlarge",
    "vcpuNum": 32
   },
   {
    "_defaultOrder": 44,
    "_isFastLaunch": false,
    "category": "Memory Optimized",
    "gpuNum": 0,
    "hideHardwareSpecs": false,
    "memoryGiB": 384,
    "name": "ml.r5.12xlarge",
    "vcpuNum": 48
   },
   {
    "_defaultOrder": 45,
    "_isFastLaunch": false,
    "category": "Memory Optimized",
    "gpuNum": 0,
    "hideHardwareSpecs": false,
    "memoryGiB": 512,
    "name": "ml.r5.16xlarge",
    "vcpuNum": 64
   },
   {
    "_defaultOrder": 46,
    "_isFastLaunch": false,
    "category": "Memory Optimized",
    "gpuNum": 0,
    "hideHardwareSpecs": false,
    "memoryGiB": 768,
    "name": "ml.r5.24xlarge",
    "vcpuNum": 96
   },
   {
    "_defaultOrder": 47,
    "_isFastLaunch": false,
    "category": "Accelerated computing",
    "gpuNum": 1,
    "hideHardwareSpecs": false,
    "memoryGiB": 16,
    "name": "ml.g5.xlarge",
    "vcpuNum": 4
   },
   {
    "_defaultOrder": 48,
    "_isFastLaunch": false,
    "category": "Accelerated computing",
    "gpuNum": 1,
    "hideHardwareSpecs": false,
    "memoryGiB": 32,
    "name": "ml.g5.2xlarge",
    "vcpuNum": 8
   },
   {
    "_defaultOrder": 49,
    "_isFastLaunch": false,
    "category": "Accelerated computing",
    "gpuNum": 1,
    "hideHardwareSpecs": false,
    "memoryGiB": 64,
    "name": "ml.g5.4xlarge",
    "vcpuNum": 16
   },
   {
    "_defaultOrder": 50,
    "_isFastLaunch": false,
    "category": "Accelerated computing",
    "gpuNum": 1,
    "hideHardwareSpecs": false,
    "memoryGiB": 128,
    "name": "ml.g5.8xlarge",
    "vcpuNum": 32
   },
   {
    "_defaultOrder": 51,
    "_isFastLaunch": false,
    "category": "Accelerated computing",
    "gpuNum": 1,
    "hideHardwareSpecs": false,
    "memoryGiB": 256,
    "name": "ml.g5.16xlarge",
    "vcpuNum": 64
   },
   {
    "_defaultOrder": 52,
    "_isFastLaunch": false,
    "category": "Accelerated computing",
    "gpuNum": 4,
    "hideHardwareSpecs": false,
    "memoryGiB": 192,
    "name": "ml.g5.12xlarge",
    "vcpuNum": 48
   },
   {
    "_defaultOrder": 53,
    "_isFastLaunch": false,
    "category": "Accelerated computing",
    "gpuNum": 4,
    "hideHardwareSpecs": false,
    "memoryGiB": 384,
    "name": "ml.g5.24xlarge",
    "vcpuNum": 96
   },
   {
    "_defaultOrder": 54,
    "_isFastLaunch": false,
    "category": "Accelerated computing",
    "gpuNum": 8,
    "hideHardwareSpecs": false,
    "memoryGiB": 768,
    "name": "ml.g5.48xlarge",
    "vcpuNum": 192
   },
   {
    "_defaultOrder": 55,
    "_isFastLaunch": false,
    "category": "Accelerated computing",
    "gpuNum": 8,
    "hideHardwareSpecs": false,
    "memoryGiB": 1152,
    "name": "ml.p4d.24xlarge",
    "vcpuNum": 96
   },
   {
    "_defaultOrder": 56,
    "_isFastLaunch": false,
    "category": "Accelerated computing",
    "gpuNum": 8,
    "hideHardwareSpecs": false,
    "memoryGiB": 1152,
    "name": "ml.p4de.24xlarge",
    "vcpuNum": 96
   },
   {
    "_defaultOrder": 57,
    "_isFastLaunch": false,
    "category": "Accelerated computing",
    "gpuNum": 0,
    "hideHardwareSpecs": false,
    "memoryGiB": 32,
    "name": "ml.trn1.2xlarge",
    "vcpuNum": 8
   },
   {
    "_defaultOrder": 58,
    "_isFastLaunch": false,
    "category": "Accelerated computing",
    "gpuNum": 0,
    "hideHardwareSpecs": false,
    "memoryGiB": 512,
    "name": "ml.trn1.32xlarge",
    "vcpuNum": 128
   },
   {
    "_defaultOrder": 59,
    "_isFastLaunch": false,
    "category": "Accelerated computing",
    "gpuNum": 0,
    "hideHardwareSpecs": false,
    "memoryGiB": 512,
    "name": "ml.trn1n.32xlarge",
    "vcpuNum": 128
   }
  ],
  "instance_type": "ml.t3.large",
  "kernelspec": {
   "display_name": "Python 3 (Data Science 3.0)",
   "language": "python",
   "name": "python3__SAGEMAKER_INTERNAL__arn:aws:sagemaker:us-east-1:081325390199:image/sagemaker-data-science-310-v1"
  },
  "language_info": {
   "codemirror_mode": {
    "name": "ipython",
    "version": 3
   },
   "file_extension": ".py",
   "mimetype": "text/x-python",
   "name": "python",
   "nbconvert_exporter": "python",
   "pygments_lexer": "ipython3",
   "version": "3.10.6"
  },
  "vscode": {
   "interpreter": {
    "hash": "97859db8a09b5f33a50b04274e6ef8adfc234b4e2136e9d1f5d530ab024e9ea0"
   }
  }
 },
 "nbformat": 4,
 "nbformat_minor": 5
}
